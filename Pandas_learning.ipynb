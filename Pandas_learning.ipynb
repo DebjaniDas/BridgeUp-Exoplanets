{
 "cells": [
  {
   "cell_type": "code",
   "execution_count": 1,
   "metadata": {
    "collapsed": true
   },
   "outputs": [],
   "source": [
    "import numpy as np #numpy gives me math functions! huzzah!\n",
    "import pandas as pd "
   ]
  },
  {
   "cell_type": "code",
   "execution_count": 2,
   "metadata": {
    "collapsed": true
   },
   "outputs": [],
   "source": [
    "i = 6\n",
    "f= 6.0\n",
    "s = '6.0'"
   ]
  },
  {
   "cell_type": "code",
   "execution_count": 3,
   "metadata": {},
   "outputs": [
    {
     "data": {
      "text/plain": [
       "int"
      ]
     },
     "execution_count": 3,
     "metadata": {},
     "output_type": "execute_result"
    }
   ],
   "source": [
    "type (i)"
   ]
  },
  {
   "cell_type": "code",
   "execution_count": 4,
   "metadata": {},
   "outputs": [
    {
     "data": {
      "text/plain": [
       "6.0"
      ]
     },
     "execution_count": 4,
     "metadata": {},
     "output_type": "execute_result"
    }
   ],
   "source": [
    "np.mean([i, f])"
   ]
  },
  {
   "cell_type": "code",
   "execution_count": null,
   "metadata": {},
   "outputs": [],
   "source": []
  },
  {
   "cell_type": "code",
   "execution_count": 5,
   "metadata": {
    "collapsed": true
   },
   "outputs": [],
   "source": [
    "df = pd.read_csv('data.csv')"
   ]
  },
  {
   "cell_type": "code",
   "execution_count": 6,
   "metadata": {},
   "outputs": [
    {
     "data": {
      "text/html": [
       "<div>\n",
       "<style>\n",
       "    .dataframe thead tr:only-child th {\n",
       "        text-align: right;\n",
       "    }\n",
       "\n",
       "    .dataframe thead th {\n",
       "        text-align: left;\n",
       "    }\n",
       "\n",
       "    .dataframe tbody tr th {\n",
       "        vertical-align: top;\n",
       "    }\n",
       "</style>\n",
       "<table border=\"1\" class=\"dataframe\">\n",
       "  <thead>\n",
       "    <tr style=\"text-align: right;\">\n",
       "      <th></th>\n",
       "      <th>NAME</th>\n",
       "      <th>PER</th>\n",
       "      <th>RA</th>\n",
       "      <th>DEC</th>\n",
       "      <th>STAR</th>\n",
       "      <th>MSTAR</th>\n",
       "      <th>TEFF</th>\n",
       "      <th>DIST</th>\n",
       "    </tr>\n",
       "  </thead>\n",
       "  <tbody>\n",
       "    <tr>\n",
       "      <th>0</th>\n",
       "      <td>Kepler-107 d</td>\n",
       "      <td>7.958203</td>\n",
       "      <td>19.801881</td>\n",
       "      <td>48.208611</td>\n",
       "      <td>Kepler-107</td>\n",
       "      <td>NaN</td>\n",
       "      <td>5851.00</td>\n",
       "      <td>NaN</td>\n",
       "    </tr>\n",
       "    <tr>\n",
       "      <th>1</th>\n",
       "      <td>Kepler-1049 b</td>\n",
       "      <td>3.273461</td>\n",
       "      <td>19.156450</td>\n",
       "      <td>47.772944</td>\n",
       "      <td>Kepler-1049</td>\n",
       "      <td>0.5100</td>\n",
       "      <td>3864.00</td>\n",
       "      <td>129.0000</td>\n",
       "    </tr>\n",
       "    <tr>\n",
       "      <th>2</th>\n",
       "      <td>Kepler-813 b</td>\n",
       "      <td>19.129473</td>\n",
       "      <td>19.044181</td>\n",
       "      <td>48.435361</td>\n",
       "      <td>Kepler-813</td>\n",
       "      <td>0.9500</td>\n",
       "      <td>5743.00</td>\n",
       "      <td>840.0000</td>\n",
       "    </tr>\n",
       "    <tr>\n",
       "      <th>3</th>\n",
       "      <td>Kepler-427 b</td>\n",
       "      <td>10.290994</td>\n",
       "      <td>19.216972</td>\n",
       "      <td>43.704861</td>\n",
       "      <td>Kepler-427</td>\n",
       "      <td>0.9600</td>\n",
       "      <td>5800.00</td>\n",
       "      <td>1100.0000</td>\n",
       "    </tr>\n",
       "    <tr>\n",
       "      <th>4</th>\n",
       "      <td>Kepler-1056 b</td>\n",
       "      <td>27.495606</td>\n",
       "      <td>19.968400</td>\n",
       "      <td>46.899250</td>\n",
       "      <td>Kepler-1056</td>\n",
       "      <td>1.1200</td>\n",
       "      <td>6127.00</td>\n",
       "      <td>971.0000</td>\n",
       "    </tr>\n",
       "    <tr>\n",
       "      <th>5</th>\n",
       "      <td>Kepler-1165 b</td>\n",
       "      <td>9.478522</td>\n",
       "      <td>19.131417</td>\n",
       "      <td>44.708306</td>\n",
       "      <td>Kepler-1165</td>\n",
       "      <td>1.1300</td>\n",
       "      <td>6080.00</td>\n",
       "      <td>1081.0000</td>\n",
       "    </tr>\n",
       "    <tr>\n",
       "      <th>6</th>\n",
       "      <td>Kepler-1104 b</td>\n",
       "      <td>5.037280</td>\n",
       "      <td>19.631236</td>\n",
       "      <td>49.331028</td>\n",
       "      <td>Kepler-1104</td>\n",
       "      <td>1.3000</td>\n",
       "      <td>6417.00</td>\n",
       "      <td>516.0000</td>\n",
       "    </tr>\n",
       "    <tr>\n",
       "      <th>7</th>\n",
       "      <td>WASP-14 b</td>\n",
       "      <td>2.243752</td>\n",
       "      <td>14.551765</td>\n",
       "      <td>21.894694</td>\n",
       "      <td>WASP-14</td>\n",
       "      <td>1.3100</td>\n",
       "      <td>6475.00</td>\n",
       "      <td>160.0000</td>\n",
       "    </tr>\n",
       "    <tr>\n",
       "      <th>8</th>\n",
       "      <td>Kepler-50 b</td>\n",
       "      <td>7.812512</td>\n",
       "      <td>19.206727</td>\n",
       "      <td>50.033722</td>\n",
       "      <td>Kepler-50</td>\n",
       "      <td>1.2300</td>\n",
       "      <td>6058.00</td>\n",
       "      <td>NaN</td>\n",
       "    </tr>\n",
       "    <tr>\n",
       "      <th>9</th>\n",
       "      <td>NN Ser d</td>\n",
       "      <td>2605.000000</td>\n",
       "      <td>15.882259</td>\n",
       "      <td>12.912389</td>\n",
       "      <td>NN Ser</td>\n",
       "      <td>NaN</td>\n",
       "      <td>NaN</td>\n",
       "      <td>NaN</td>\n",
       "    </tr>\n",
       "    <tr>\n",
       "      <th>10</th>\n",
       "      <td>Kepler-1279 b</td>\n",
       "      <td>23.477410</td>\n",
       "      <td>19.206375</td>\n",
       "      <td>40.365972</td>\n",
       "      <td>Kepler-1279</td>\n",
       "      <td>1.2100</td>\n",
       "      <td>6221.00</td>\n",
       "      <td>1017.0000</td>\n",
       "    </tr>\n",
       "    <tr>\n",
       "      <th>11</th>\n",
       "      <td>Kepler-1599 b</td>\n",
       "      <td>122.363553</td>\n",
       "      <td>19.081392</td>\n",
       "      <td>41.151250</td>\n",
       "      <td>Kepler-1599</td>\n",
       "      <td>0.9900</td>\n",
       "      <td>5767.00</td>\n",
       "      <td>1004.0000</td>\n",
       "    </tr>\n",
       "    <tr>\n",
       "      <th>12</th>\n",
       "      <td>Kepler-20 b</td>\n",
       "      <td>3.696122</td>\n",
       "      <td>19.179868</td>\n",
       "      <td>42.338694</td>\n",
       "      <td>Kepler-20</td>\n",
       "      <td>0.9120</td>\n",
       "      <td>5466.00</td>\n",
       "      <td>290.0000</td>\n",
       "    </tr>\n",
       "    <tr>\n",
       "      <th>13</th>\n",
       "      <td>HAT-P-27 b</td>\n",
       "      <td>3.039577</td>\n",
       "      <td>14.851164</td>\n",
       "      <td>5.947361</td>\n",
       "      <td>HAT-P-27</td>\n",
       "      <td>0.9200</td>\n",
       "      <td>5190.00</td>\n",
       "      <td>204.0000</td>\n",
       "    </tr>\n",
       "    <tr>\n",
       "      <th>14</th>\n",
       "      <td>Kepler-181 b</td>\n",
       "      <td>3.137873</td>\n",
       "      <td>19.743431</td>\n",
       "      <td>50.095811</td>\n",
       "      <td>Kepler-181</td>\n",
       "      <td>NaN</td>\n",
       "      <td>5333.00</td>\n",
       "      <td>NaN</td>\n",
       "    </tr>\n",
       "    <tr>\n",
       "      <th>15</th>\n",
       "      <td>HD 116029 b</td>\n",
       "      <td>670.000000</td>\n",
       "      <td>13.344319</td>\n",
       "      <td>24.648825</td>\n",
       "      <td>HD 116029</td>\n",
       "      <td>1.3300</td>\n",
       "      <td>4811.00</td>\n",
       "      <td>123.1980</td>\n",
       "    </tr>\n",
       "    <tr>\n",
       "      <th>16</th>\n",
       "      <td>Kepler-207 b</td>\n",
       "      <td>1.611865</td>\n",
       "      <td>19.335369</td>\n",
       "      <td>42.166050</td>\n",
       "      <td>Kepler-207</td>\n",
       "      <td>NaN</td>\n",
       "      <td>5920.00</td>\n",
       "      <td>NaN</td>\n",
       "    </tr>\n",
       "    <tr>\n",
       "      <th>17</th>\n",
       "      <td>Kepler-1156 b</td>\n",
       "      <td>11.895205</td>\n",
       "      <td>19.261603</td>\n",
       "      <td>46.057639</td>\n",
       "      <td>Kepler-1156</td>\n",
       "      <td>1.0000</td>\n",
       "      <td>5778.00</td>\n",
       "      <td>759.0000</td>\n",
       "    </tr>\n",
       "    <tr>\n",
       "      <th>18</th>\n",
       "      <td>Kepler-1512 b</td>\n",
       "      <td>20.359726</td>\n",
       "      <td>19.284967</td>\n",
       "      <td>44.470250</td>\n",
       "      <td>Kepler-1512</td>\n",
       "      <td>0.7300</td>\n",
       "      <td>4372.00</td>\n",
       "      <td>162.0000</td>\n",
       "    </tr>\n",
       "    <tr>\n",
       "      <th>19</th>\n",
       "      <td>Kepler-787 b</td>\n",
       "      <td>0.928310</td>\n",
       "      <td>19.446164</td>\n",
       "      <td>38.572917</td>\n",
       "      <td>Kepler-787</td>\n",
       "      <td>0.6500</td>\n",
       "      <td>4248.00</td>\n",
       "      <td>468.0000</td>\n",
       "    </tr>\n",
       "    <tr>\n",
       "      <th>20</th>\n",
       "      <td>Kepler-528 b</td>\n",
       "      <td>19.782974</td>\n",
       "      <td>19.712322</td>\n",
       "      <td>47.748083</td>\n",
       "      <td>Kepler-528</td>\n",
       "      <td>1.0100</td>\n",
       "      <td>5807.00</td>\n",
       "      <td>711.0000</td>\n",
       "    </tr>\n",
       "    <tr>\n",
       "      <th>21</th>\n",
       "      <td>HD 219828 b</td>\n",
       "      <td>3.833500</td>\n",
       "      <td>23.312983</td>\n",
       "      <td>18.645714</td>\n",
       "      <td>HD 219828</td>\n",
       "      <td>1.2400</td>\n",
       "      <td>5891.00</td>\n",
       "      <td>72.3066</td>\n",
       "    </tr>\n",
       "    <tr>\n",
       "      <th>22</th>\n",
       "      <td>Kepler-480 b</td>\n",
       "      <td>4.919584</td>\n",
       "      <td>19.630928</td>\n",
       "      <td>49.765056</td>\n",
       "      <td>Kepler-480</td>\n",
       "      <td>1.2500</td>\n",
       "      <td>6322.00</td>\n",
       "      <td>806.0000</td>\n",
       "    </tr>\n",
       "    <tr>\n",
       "      <th>23</th>\n",
       "      <td>Kepler-1567 b</td>\n",
       "      <td>153.979578</td>\n",
       "      <td>19.113014</td>\n",
       "      <td>40.291806</td>\n",
       "      <td>Kepler-1567</td>\n",
       "      <td>0.9500</td>\n",
       "      <td>5655.00</td>\n",
       "      <td>1226.0000</td>\n",
       "    </tr>\n",
       "    <tr>\n",
       "      <th>24</th>\n",
       "      <td>Kepler-1390 b</td>\n",
       "      <td>6.480217</td>\n",
       "      <td>19.910822</td>\n",
       "      <td>48.248778</td>\n",
       "      <td>Kepler-1390</td>\n",
       "      <td>0.9800</td>\n",
       "      <td>5753.00</td>\n",
       "      <td>760.0000</td>\n",
       "    </tr>\n",
       "    <tr>\n",
       "      <th>25</th>\n",
       "      <td>Kepler-1642 b</td>\n",
       "      <td>12.205751</td>\n",
       "      <td>19.814144</td>\n",
       "      <td>43.643722</td>\n",
       "      <td>Kepler-1642</td>\n",
       "      <td>0.8800</td>\n",
       "      <td>5355.00</td>\n",
       "      <td>447.0000</td>\n",
       "    </tr>\n",
       "    <tr>\n",
       "      <th>26</th>\n",
       "      <td>Kepler-11 c</td>\n",
       "      <td>13.024100</td>\n",
       "      <td>19.807673</td>\n",
       "      <td>41.909111</td>\n",
       "      <td>Kepler-11</td>\n",
       "      <td>0.9610</td>\n",
       "      <td>5663.00</td>\n",
       "      <td>NaN</td>\n",
       "    </tr>\n",
       "    <tr>\n",
       "      <th>27</th>\n",
       "      <td>Kepler-871 b</td>\n",
       "      <td>22.045902</td>\n",
       "      <td>19.635142</td>\n",
       "      <td>43.368167</td>\n",
       "      <td>Kepler-871</td>\n",
       "      <td>1.1100</td>\n",
       "      <td>5993.00</td>\n",
       "      <td>1695.0000</td>\n",
       "    </tr>\n",
       "    <tr>\n",
       "      <th>28</th>\n",
       "      <td>Kepler-1131 b</td>\n",
       "      <td>3.532324</td>\n",
       "      <td>19.710100</td>\n",
       "      <td>49.261306</td>\n",
       "      <td>Kepler-1131</td>\n",
       "      <td>1.0300</td>\n",
       "      <td>5851.00</td>\n",
       "      <td>1109.0000</td>\n",
       "    </tr>\n",
       "    <tr>\n",
       "      <th>29</th>\n",
       "      <td>Kepler-705 b</td>\n",
       "      <td>56.056054</td>\n",
       "      <td>19.300567</td>\n",
       "      <td>41.812111</td>\n",
       "      <td>Kepler-705</td>\n",
       "      <td>0.5300</td>\n",
       "      <td>3722.00</td>\n",
       "      <td>251.0000</td>\n",
       "    </tr>\n",
       "    <tr>\n",
       "      <th>...</th>\n",
       "      <td>...</td>\n",
       "      <td>...</td>\n",
       "      <td>...</td>\n",
       "      <td>...</td>\n",
       "      <td>...</td>\n",
       "      <td>...</td>\n",
       "      <td>...</td>\n",
       "      <td>...</td>\n",
       "    </tr>\n",
       "    <tr>\n",
       "      <th>2920</th>\n",
       "      <td>Kepler-33 b</td>\n",
       "      <td>5.667930</td>\n",
       "      <td>19.271837</td>\n",
       "      <td>46.005194</td>\n",
       "      <td>Kepler-33</td>\n",
       "      <td>1.2910</td>\n",
       "      <td>5904.00</td>\n",
       "      <td>NaN</td>\n",
       "    </tr>\n",
       "    <tr>\n",
       "      <th>2921</th>\n",
       "      <td>Kepler-1437 b</td>\n",
       "      <td>10.929546</td>\n",
       "      <td>19.457661</td>\n",
       "      <td>49.325917</td>\n",
       "      <td>Kepler-1437</td>\n",
       "      <td>0.9300</td>\n",
       "      <td>5557.00</td>\n",
       "      <td>1182.0000</td>\n",
       "    </tr>\n",
       "    <tr>\n",
       "      <th>2922</th>\n",
       "      <td>Kepler-391 b</td>\n",
       "      <td>7.416755</td>\n",
       "      <td>19.374789</td>\n",
       "      <td>51.057300</td>\n",
       "      <td>Kepler-391</td>\n",
       "      <td>NaN</td>\n",
       "      <td>4940.00</td>\n",
       "      <td>NaN</td>\n",
       "    </tr>\n",
       "    <tr>\n",
       "      <th>2923</th>\n",
       "      <td>Kepler-618 b</td>\n",
       "      <td>3.595770</td>\n",
       "      <td>19.083322</td>\n",
       "      <td>48.060944</td>\n",
       "      <td>Kepler-618</td>\n",
       "      <td>1.0500</td>\n",
       "      <td>5860.00</td>\n",
       "      <td>1115.0000</td>\n",
       "    </tr>\n",
       "    <tr>\n",
       "      <th>2924</th>\n",
       "      <td>Kepler-55 e</td>\n",
       "      <td>4.617534</td>\n",
       "      <td>19.011219</td>\n",
       "      <td>44.026461</td>\n",
       "      <td>Kepler-55</td>\n",
       "      <td>NaN</td>\n",
       "      <td>4503.00</td>\n",
       "      <td>NaN</td>\n",
       "    </tr>\n",
       "    <tr>\n",
       "      <th>2925</th>\n",
       "      <td>Kepler-34 b</td>\n",
       "      <td>288.822000</td>\n",
       "      <td>19.762388</td>\n",
       "      <td>44.641556</td>\n",
       "      <td>Kepler-34</td>\n",
       "      <td>1.0479</td>\n",
       "      <td>NaN</td>\n",
       "      <td>NaN</td>\n",
       "    </tr>\n",
       "    <tr>\n",
       "      <th>2926</th>\n",
       "      <td>Kepler-255 d</td>\n",
       "      <td>1.045623</td>\n",
       "      <td>19.737617</td>\n",
       "      <td>45.976833</td>\n",
       "      <td>Kepler-255</td>\n",
       "      <td>0.9700</td>\n",
       "      <td>5573.00</td>\n",
       "      <td>0.0000</td>\n",
       "    </tr>\n",
       "    <tr>\n",
       "      <th>2927</th>\n",
       "      <td>Kepler-1085 b</td>\n",
       "      <td>219.321753</td>\n",
       "      <td>19.165178</td>\n",
       "      <td>46.141194</td>\n",
       "      <td>Kepler-1085</td>\n",
       "      <td>1.1100</td>\n",
       "      <td>6000.00</td>\n",
       "      <td>1518.0000</td>\n",
       "    </tr>\n",
       "    <tr>\n",
       "      <th>2928</th>\n",
       "      <td>Kepler-383 b</td>\n",
       "      <td>12.904532</td>\n",
       "      <td>19.422839</td>\n",
       "      <td>38.363131</td>\n",
       "      <td>Kepler-383</td>\n",
       "      <td>NaN</td>\n",
       "      <td>4710.00</td>\n",
       "      <td>NaN</td>\n",
       "    </tr>\n",
       "    <tr>\n",
       "      <th>2929</th>\n",
       "      <td>Kepler-444 f</td>\n",
       "      <td>9.740486</td>\n",
       "      <td>19.316797</td>\n",
       "      <td>41.636139</td>\n",
       "      <td>Kepler-444</td>\n",
       "      <td>0.7580</td>\n",
       "      <td>5046.00</td>\n",
       "      <td>35.7000</td>\n",
       "    </tr>\n",
       "    <tr>\n",
       "      <th>2930</th>\n",
       "      <td>HD 171028 b</td>\n",
       "      <td>550.000000</td>\n",
       "      <td>18.537637</td>\n",
       "      <td>6.945750</td>\n",
       "      <td>HD 171028</td>\n",
       "      <td>1.0100</td>\n",
       "      <td>5671.00</td>\n",
       "      <td>109.8900</td>\n",
       "    </tr>\n",
       "    <tr>\n",
       "      <th>2931</th>\n",
       "      <td>Kepler-336 b</td>\n",
       "      <td>2.024823</td>\n",
       "      <td>19.349181</td>\n",
       "      <td>41.331381</td>\n",
       "      <td>Kepler-336</td>\n",
       "      <td>NaN</td>\n",
       "      <td>5867.00</td>\n",
       "      <td>NaN</td>\n",
       "    </tr>\n",
       "    <tr>\n",
       "      <th>2932</th>\n",
       "      <td>WASP-1 b</td>\n",
       "      <td>2.519945</td>\n",
       "      <td>0.344466</td>\n",
       "      <td>31.989917</td>\n",
       "      <td>WASP-1</td>\n",
       "      <td>1.2000</td>\n",
       "      <td>6110.00</td>\n",
       "      <td>408.1630</td>\n",
       "    </tr>\n",
       "    <tr>\n",
       "      <th>2933</th>\n",
       "      <td>XO-5 b</td>\n",
       "      <td>4.187754</td>\n",
       "      <td>7.781100</td>\n",
       "      <td>39.094556</td>\n",
       "      <td>XO-5</td>\n",
       "      <td>1.0000</td>\n",
       "      <td>5510.00</td>\n",
       "      <td>270.2700</td>\n",
       "    </tr>\n",
       "    <tr>\n",
       "      <th>2934</th>\n",
       "      <td>HAT-P-3 b</td>\n",
       "      <td>2.899703</td>\n",
       "      <td>13.739606</td>\n",
       "      <td>48.028667</td>\n",
       "      <td>HAT-P-3</td>\n",
       "      <td>0.9280</td>\n",
       "      <td>5185.00</td>\n",
       "      <td>138.6960</td>\n",
       "    </tr>\n",
       "    <tr>\n",
       "      <th>2935</th>\n",
       "      <td>Kepler-1175 b</td>\n",
       "      <td>37.945630</td>\n",
       "      <td>19.276181</td>\n",
       "      <td>46.812889</td>\n",
       "      <td>Kepler-1175</td>\n",
       "      <td>0.9000</td>\n",
       "      <td>5453.00</td>\n",
       "      <td>1244.0000</td>\n",
       "    </tr>\n",
       "    <tr>\n",
       "      <th>2936</th>\n",
       "      <td>Kepler-1421 b</td>\n",
       "      <td>6.913111</td>\n",
       "      <td>19.105372</td>\n",
       "      <td>48.544194</td>\n",
       "      <td>Kepler-1421</td>\n",
       "      <td>1.2500</td>\n",
       "      <td>6335.00</td>\n",
       "      <td>675.0000</td>\n",
       "    </tr>\n",
       "    <tr>\n",
       "      <th>2937</th>\n",
       "      <td>Kepler-1626 b</td>\n",
       "      <td>4.139630</td>\n",
       "      <td>19.766697</td>\n",
       "      <td>40.721222</td>\n",
       "      <td>Kepler-1626</td>\n",
       "      <td>1.5100</td>\n",
       "      <td>6826.00</td>\n",
       "      <td>1718.0000</td>\n",
       "    </tr>\n",
       "    <tr>\n",
       "      <th>2938</th>\n",
       "      <td>Kepler-252 c</td>\n",
       "      <td>10.848463</td>\n",
       "      <td>19.705289</td>\n",
       "      <td>44.545961</td>\n",
       "      <td>Kepler-252</td>\n",
       "      <td>NaN</td>\n",
       "      <td>4208.00</td>\n",
       "      <td>NaN</td>\n",
       "    </tr>\n",
       "    <tr>\n",
       "      <th>2939</th>\n",
       "      <td>Kepler-718 b</td>\n",
       "      <td>2.052350</td>\n",
       "      <td>19.970792</td>\n",
       "      <td>43.503556</td>\n",
       "      <td>Kepler-718</td>\n",
       "      <td>1.1800</td>\n",
       "      <td>6191.00</td>\n",
       "      <td>1520.0000</td>\n",
       "    </tr>\n",
       "    <tr>\n",
       "      <th>2940</th>\n",
       "      <td>Kepler-247 b</td>\n",
       "      <td>3.336160</td>\n",
       "      <td>19.242831</td>\n",
       "      <td>43.039289</td>\n",
       "      <td>Kepler-247</td>\n",
       "      <td>NaN</td>\n",
       "      <td>5100.00</td>\n",
       "      <td>NaN</td>\n",
       "    </tr>\n",
       "    <tr>\n",
       "      <th>2941</th>\n",
       "      <td>Kepler-251 e</td>\n",
       "      <td>99.640161</td>\n",
       "      <td>19.771081</td>\n",
       "      <td>44.105861</td>\n",
       "      <td>Kepler-251</td>\n",
       "      <td>NaN</td>\n",
       "      <td>5526.00</td>\n",
       "      <td>NaN</td>\n",
       "    </tr>\n",
       "    <tr>\n",
       "      <th>2942</th>\n",
       "      <td>Kepler-1583 b</td>\n",
       "      <td>9.328074</td>\n",
       "      <td>19.092461</td>\n",
       "      <td>47.016639</td>\n",
       "      <td>Kepler-1583</td>\n",
       "      <td>0.9400</td>\n",
       "      <td>5645.00</td>\n",
       "      <td>357.0000</td>\n",
       "    </tr>\n",
       "    <tr>\n",
       "      <th>2943</th>\n",
       "      <td>Kepler-282 b</td>\n",
       "      <td>9.220524</td>\n",
       "      <td>18.978489</td>\n",
       "      <td>44.797681</td>\n",
       "      <td>Kepler-282</td>\n",
       "      <td>NaN</td>\n",
       "      <td>5602.00</td>\n",
       "      <td>NaN</td>\n",
       "    </tr>\n",
       "    <tr>\n",
       "      <th>2944</th>\n",
       "      <td>Kepler-354 c</td>\n",
       "      <td>16.934402</td>\n",
       "      <td>19.050100</td>\n",
       "      <td>41.335639</td>\n",
       "      <td>Kepler-354</td>\n",
       "      <td>NaN</td>\n",
       "      <td>4648.00</td>\n",
       "      <td>NaN</td>\n",
       "    </tr>\n",
       "    <tr>\n",
       "      <th>2945</th>\n",
       "      <td>Kepler-1529 b</td>\n",
       "      <td>5.339057</td>\n",
       "      <td>19.324714</td>\n",
       "      <td>41.040722</td>\n",
       "      <td>Kepler-1529</td>\n",
       "      <td>0.8100</td>\n",
       "      <td>5048.00</td>\n",
       "      <td>683.0000</td>\n",
       "    </tr>\n",
       "    <tr>\n",
       "      <th>2946</th>\n",
       "      <td>Kepler-1446 b</td>\n",
       "      <td>0.689968</td>\n",
       "      <td>19.294931</td>\n",
       "      <td>46.726167</td>\n",
       "      <td>Kepler-1446</td>\n",
       "      <td>0.8100</td>\n",
       "      <td>4865.00</td>\n",
       "      <td>162.0000</td>\n",
       "    </tr>\n",
       "    <tr>\n",
       "      <th>2947</th>\n",
       "      <td>upsilon And d</td>\n",
       "      <td>1278.121800</td>\n",
       "      <td>1.613328</td>\n",
       "      <td>41.406386</td>\n",
       "      <td>upsilon And</td>\n",
       "      <td>1.3100</td>\n",
       "      <td>6212.65</td>\n",
       "      <td>13.4916</td>\n",
       "    </tr>\n",
       "    <tr>\n",
       "      <th>2948</th>\n",
       "      <td>Kepler-1098 b</td>\n",
       "      <td>2.543073</td>\n",
       "      <td>19.700181</td>\n",
       "      <td>43.232806</td>\n",
       "      <td>Kepler-1098</td>\n",
       "      <td>0.9900</td>\n",
       "      <td>5794.00</td>\n",
       "      <td>876.0000</td>\n",
       "    </tr>\n",
       "    <tr>\n",
       "      <th>2949</th>\n",
       "      <td>Kepler-102 b</td>\n",
       "      <td>5.286960</td>\n",
       "      <td>18.765500</td>\n",
       "      <td>47.207778</td>\n",
       "      <td>Kepler-102</td>\n",
       "      <td>0.8000</td>\n",
       "      <td>4903.00</td>\n",
       "      <td>NaN</td>\n",
       "    </tr>\n",
       "  </tbody>\n",
       "</table>\n",
       "<p>2950 rows × 8 columns</p>\n",
       "</div>"
      ],
      "text/plain": [
       "               NAME          PER         RA        DEC         STAR   MSTAR  \\\n",
       "0      Kepler-107 d     7.958203  19.801881  48.208611   Kepler-107     NaN   \n",
       "1     Kepler-1049 b     3.273461  19.156450  47.772944  Kepler-1049  0.5100   \n",
       "2      Kepler-813 b    19.129473  19.044181  48.435361   Kepler-813  0.9500   \n",
       "3      Kepler-427 b    10.290994  19.216972  43.704861   Kepler-427  0.9600   \n",
       "4     Kepler-1056 b    27.495606  19.968400  46.899250  Kepler-1056  1.1200   \n",
       "5     Kepler-1165 b     9.478522  19.131417  44.708306  Kepler-1165  1.1300   \n",
       "6     Kepler-1104 b     5.037280  19.631236  49.331028  Kepler-1104  1.3000   \n",
       "7         WASP-14 b     2.243752  14.551765  21.894694      WASP-14  1.3100   \n",
       "8       Kepler-50 b     7.812512  19.206727  50.033722    Kepler-50  1.2300   \n",
       "9          NN Ser d  2605.000000  15.882259  12.912389       NN Ser     NaN   \n",
       "10    Kepler-1279 b    23.477410  19.206375  40.365972  Kepler-1279  1.2100   \n",
       "11    Kepler-1599 b   122.363553  19.081392  41.151250  Kepler-1599  0.9900   \n",
       "12      Kepler-20 b     3.696122  19.179868  42.338694    Kepler-20  0.9120   \n",
       "13       HAT-P-27 b     3.039577  14.851164   5.947361     HAT-P-27  0.9200   \n",
       "14     Kepler-181 b     3.137873  19.743431  50.095811   Kepler-181     NaN   \n",
       "15      HD 116029 b   670.000000  13.344319  24.648825    HD 116029  1.3300   \n",
       "16     Kepler-207 b     1.611865  19.335369  42.166050   Kepler-207     NaN   \n",
       "17    Kepler-1156 b    11.895205  19.261603  46.057639  Kepler-1156  1.0000   \n",
       "18    Kepler-1512 b    20.359726  19.284967  44.470250  Kepler-1512  0.7300   \n",
       "19     Kepler-787 b     0.928310  19.446164  38.572917   Kepler-787  0.6500   \n",
       "20     Kepler-528 b    19.782974  19.712322  47.748083   Kepler-528  1.0100   \n",
       "21      HD 219828 b     3.833500  23.312983  18.645714    HD 219828  1.2400   \n",
       "22     Kepler-480 b     4.919584  19.630928  49.765056   Kepler-480  1.2500   \n",
       "23    Kepler-1567 b   153.979578  19.113014  40.291806  Kepler-1567  0.9500   \n",
       "24    Kepler-1390 b     6.480217  19.910822  48.248778  Kepler-1390  0.9800   \n",
       "25    Kepler-1642 b    12.205751  19.814144  43.643722  Kepler-1642  0.8800   \n",
       "26      Kepler-11 c    13.024100  19.807673  41.909111    Kepler-11  0.9610   \n",
       "27     Kepler-871 b    22.045902  19.635142  43.368167   Kepler-871  1.1100   \n",
       "28    Kepler-1131 b     3.532324  19.710100  49.261306  Kepler-1131  1.0300   \n",
       "29     Kepler-705 b    56.056054  19.300567  41.812111   Kepler-705  0.5300   \n",
       "...             ...          ...        ...        ...          ...     ...   \n",
       "2920    Kepler-33 b     5.667930  19.271837  46.005194    Kepler-33  1.2910   \n",
       "2921  Kepler-1437 b    10.929546  19.457661  49.325917  Kepler-1437  0.9300   \n",
       "2922   Kepler-391 b     7.416755  19.374789  51.057300   Kepler-391     NaN   \n",
       "2923   Kepler-618 b     3.595770  19.083322  48.060944   Kepler-618  1.0500   \n",
       "2924    Kepler-55 e     4.617534  19.011219  44.026461    Kepler-55     NaN   \n",
       "2925    Kepler-34 b   288.822000  19.762388  44.641556    Kepler-34  1.0479   \n",
       "2926   Kepler-255 d     1.045623  19.737617  45.976833   Kepler-255  0.9700   \n",
       "2927  Kepler-1085 b   219.321753  19.165178  46.141194  Kepler-1085  1.1100   \n",
       "2928   Kepler-383 b    12.904532  19.422839  38.363131   Kepler-383     NaN   \n",
       "2929   Kepler-444 f     9.740486  19.316797  41.636139   Kepler-444  0.7580   \n",
       "2930    HD 171028 b   550.000000  18.537637   6.945750    HD 171028  1.0100   \n",
       "2931   Kepler-336 b     2.024823  19.349181  41.331381   Kepler-336     NaN   \n",
       "2932       WASP-1 b     2.519945   0.344466  31.989917       WASP-1  1.2000   \n",
       "2933         XO-5 b     4.187754   7.781100  39.094556         XO-5  1.0000   \n",
       "2934      HAT-P-3 b     2.899703  13.739606  48.028667      HAT-P-3  0.9280   \n",
       "2935  Kepler-1175 b    37.945630  19.276181  46.812889  Kepler-1175  0.9000   \n",
       "2936  Kepler-1421 b     6.913111  19.105372  48.544194  Kepler-1421  1.2500   \n",
       "2937  Kepler-1626 b     4.139630  19.766697  40.721222  Kepler-1626  1.5100   \n",
       "2938   Kepler-252 c    10.848463  19.705289  44.545961   Kepler-252     NaN   \n",
       "2939   Kepler-718 b     2.052350  19.970792  43.503556   Kepler-718  1.1800   \n",
       "2940   Kepler-247 b     3.336160  19.242831  43.039289   Kepler-247     NaN   \n",
       "2941   Kepler-251 e    99.640161  19.771081  44.105861   Kepler-251     NaN   \n",
       "2942  Kepler-1583 b     9.328074  19.092461  47.016639  Kepler-1583  0.9400   \n",
       "2943   Kepler-282 b     9.220524  18.978489  44.797681   Kepler-282     NaN   \n",
       "2944   Kepler-354 c    16.934402  19.050100  41.335639   Kepler-354     NaN   \n",
       "2945  Kepler-1529 b     5.339057  19.324714  41.040722  Kepler-1529  0.8100   \n",
       "2946  Kepler-1446 b     0.689968  19.294931  46.726167  Kepler-1446  0.8100   \n",
       "2947  upsilon And d  1278.121800   1.613328  41.406386  upsilon And  1.3100   \n",
       "2948  Kepler-1098 b     2.543073  19.700181  43.232806  Kepler-1098  0.9900   \n",
       "2949   Kepler-102 b     5.286960  18.765500  47.207778   Kepler-102  0.8000   \n",
       "\n",
       "         TEFF       DIST  \n",
       "0     5851.00        NaN  \n",
       "1     3864.00   129.0000  \n",
       "2     5743.00   840.0000  \n",
       "3     5800.00  1100.0000  \n",
       "4     6127.00   971.0000  \n",
       "5     6080.00  1081.0000  \n",
       "6     6417.00   516.0000  \n",
       "7     6475.00   160.0000  \n",
       "8     6058.00        NaN  \n",
       "9         NaN        NaN  \n",
       "10    6221.00  1017.0000  \n",
       "11    5767.00  1004.0000  \n",
       "12    5466.00   290.0000  \n",
       "13    5190.00   204.0000  \n",
       "14    5333.00        NaN  \n",
       "15    4811.00   123.1980  \n",
       "16    5920.00        NaN  \n",
       "17    5778.00   759.0000  \n",
       "18    4372.00   162.0000  \n",
       "19    4248.00   468.0000  \n",
       "20    5807.00   711.0000  \n",
       "21    5891.00    72.3066  \n",
       "22    6322.00   806.0000  \n",
       "23    5655.00  1226.0000  \n",
       "24    5753.00   760.0000  \n",
       "25    5355.00   447.0000  \n",
       "26    5663.00        NaN  \n",
       "27    5993.00  1695.0000  \n",
       "28    5851.00  1109.0000  \n",
       "29    3722.00   251.0000  \n",
       "...       ...        ...  \n",
       "2920  5904.00        NaN  \n",
       "2921  5557.00  1182.0000  \n",
       "2922  4940.00        NaN  \n",
       "2923  5860.00  1115.0000  \n",
       "2924  4503.00        NaN  \n",
       "2925      NaN        NaN  \n",
       "2926  5573.00     0.0000  \n",
       "2927  6000.00  1518.0000  \n",
       "2928  4710.00        NaN  \n",
       "2929  5046.00    35.7000  \n",
       "2930  5671.00   109.8900  \n",
       "2931  5867.00        NaN  \n",
       "2932  6110.00   408.1630  \n",
       "2933  5510.00   270.2700  \n",
       "2934  5185.00   138.6960  \n",
       "2935  5453.00  1244.0000  \n",
       "2936  6335.00   675.0000  \n",
       "2937  6826.00  1718.0000  \n",
       "2938  4208.00        NaN  \n",
       "2939  6191.00  1520.0000  \n",
       "2940  5100.00        NaN  \n",
       "2941  5526.00        NaN  \n",
       "2942  5645.00   357.0000  \n",
       "2943  5602.00        NaN  \n",
       "2944  4648.00        NaN  \n",
       "2945  5048.00   683.0000  \n",
       "2946  4865.00   162.0000  \n",
       "2947  6212.65    13.4916  \n",
       "2948  5794.00   876.0000  \n",
       "2949  4903.00        NaN  \n",
       "\n",
       "[2950 rows x 8 columns]"
      ]
     },
     "execution_count": 6,
     "metadata": {},
     "output_type": "execute_result"
    }
   ],
   "source": [
    "df"
   ]
  },
  {
   "cell_type": "code",
   "execution_count": 7,
   "metadata": {},
   "outputs": [
    {
     "data": {
      "text/plain": [
       "Index(['NAME', 'PER', 'RA', 'DEC', 'STAR', 'MSTAR', 'TEFF', 'DIST'], dtype='object')"
      ]
     },
     "execution_count": 7,
     "metadata": {},
     "output_type": "execute_result"
    }
   ],
   "source": [
    "df.columns"
   ]
  },
  {
   "cell_type": "code",
   "execution_count": 8,
   "metadata": {},
   "outputs": [
    {
     "data": {
      "text/plain": [
       "NAME      object\n",
       "PER      float64\n",
       "RA       float64\n",
       "DEC      float64\n",
       "STAR      object\n",
       "MSTAR    float64\n",
       "TEFF     float64\n",
       "DIST     float64\n",
       "dtype: object"
      ]
     },
     "execution_count": 8,
     "metadata": {},
     "output_type": "execute_result"
    }
   ],
   "source": [
    "df.dtypes"
   ]
  },
  {
   "cell_type": "code",
   "execution_count": 9,
   "metadata": {},
   "outputs": [
    {
     "ename": "SyntaxError",
     "evalue": "invalid syntax (<ipython-input-9-9fe019cde4f7>, line 1)",
     "output_type": "error",
     "traceback": [
      "\u001b[0;36m  File \u001b[0;32m\"<ipython-input-9-9fe019cde4f7>\"\u001b[0;36m, line \u001b[0;32m1\u001b[0m\n\u001b[0;31m    df.['TEFF']\u001b[0m\n\u001b[0m       ^\u001b[0m\n\u001b[0;31mSyntaxError\u001b[0m\u001b[0;31m:\u001b[0m invalid syntax\n"
     ]
    }
   ],
   "source": [
    "df.['TEFF']"
   ]
  },
  {
   "cell_type": "code",
   "execution_count": null,
   "metadata": {},
   "outputs": [],
   "source": [
    "df['TEFF']"
   ]
  },
  {
   "cell_type": "code",
   "execution_count": null,
   "metadata": {},
   "outputs": [],
   "source": [
    "df['MSTAR']"
   ]
  },
  {
   "cell_type": "code",
   "execution_count": null,
   "metadata": {},
   "outputs": [],
   "source": [
    "df.columns[0]"
   ]
  },
  {
   "cell_type": "code",
   "execution_count": null,
   "metadata": {},
   "outputs": [],
   "source": [
    "df.dtypes"
   ]
  },
  {
   "cell_type": "code",
   "execution_count": null,
   "metadata": {},
   "outputs": [],
   "source": [
    "np.mean['PER', 'RA', 'DEC', 'MSTAR', 'TEFF', 'DIST']"
   ]
  },
  {
   "cell_type": "code",
   "execution_count": null,
   "metadata": {},
   "outputs": [],
   "source": [
    "np.mean(['PER', 'RA', 'DEC', 'MSTAR', 'TEFF', 'DIST'])"
   ]
  },
  {
   "cell_type": "code",
   "execution_count": null,
   "metadata": {},
   "outputs": [],
   "source": [
    "df['DEC']"
   ]
  },
  {
   "cell_type": "code",
   "execution_count": null,
   "metadata": {},
   "outputs": [],
   "source": [
    "np.mean(['DEC'])"
   ]
  },
  {
   "cell_type": "code",
   "execution_count": null,
   "metadata": {
    "collapsed": true
   },
   "outputs": [],
   "source": [
    "RA = df['RA']"
   ]
  },
  {
   "cell_type": "code",
   "execution_count": null,
   "metadata": {},
   "outputs": [],
   "source": [
    "np.mean([RA])"
   ]
  },
  {
   "cell_type": "code",
   "execution_count": null,
   "metadata": {
    "collapsed": true
   },
   "outputs": [],
   "source": [
    "PER = df['PER']"
   ]
  },
  {
   "cell_type": "code",
   "execution_count": null,
   "metadata": {
    "collapsed": true
   },
   "outputs": [],
   "source": [
    "DEC = df['DEC']"
   ]
  },
  {
   "cell_type": "code",
   "execution_count": null,
   "metadata": {
    "collapsed": true
   },
   "outputs": [],
   "source": [
    "MSTAR = df['MSTAR']"
   ]
  },
  {
   "cell_type": "code",
   "execution_count": null,
   "metadata": {
    "collapsed": true
   },
   "outputs": [],
   "source": [
    "TEFF = df['TEFF']"
   ]
  },
  {
   "cell_type": "code",
   "execution_count": null,
   "metadata": {
    "collapsed": true
   },
   "outputs": [],
   "source": [
    "DIST = df['DIST']"
   ]
  },
  {
   "cell_type": "code",
   "execution_count": null,
   "metadata": {},
   "outputs": [],
   "source": [
    "np.mean([PER, RA, DEC, MSTAR, TEFF, DIST])"
   ]
  },
  {
   "cell_type": "code",
   "execution_count": null,
   "metadata": {},
   "outputs": [],
   "source": [
    "df.columns"
   ]
  },
  {
   "cell_type": "code",
   "execution_count": null,
   "metadata": {},
   "outputs": [],
   "source": [
    "pd.df.sort_values('TEFF')"
   ]
  },
  {
   "cell_type": "code",
   "execution_count": null,
   "metadata": {},
   "outputs": [],
   "source": [
    "pd.DataFrame.sort_values('TEFF')"
   ]
  },
  {
   "cell_type": "code",
   "execution_count": null,
   "metadata": {},
   "outputs": [],
   "source": [
    "df.sort_values('TEFF', ascending = False)"
   ]
  },
  {
   "cell_type": "code",
   "execution_count": null,
   "metadata": {},
   "outputs": [],
   "source": [
    "food = [fishsticks, breaded_cod, tilapia]"
   ]
  },
  {
   "cell_type": "code",
   "execution_count": null,
   "metadata": {
    "collapsed": true
   },
   "outputs": [],
   "source": [
    "a = [2,4,6]"
   ]
  },
  {
   "cell_type": "code",
   "execution_count": null,
   "metadata": {},
   "outputs": [],
   "source": [
    "a[0]"
   ]
  },
  {
   "cell_type": "code",
   "execution_count": null,
   "metadata": {
    "collapsed": true
   },
   "outputs": [],
   "source": [
    "food = ['fishsticks', 'breaded cod', 'rainbow tilapia']"
   ]
  },
  {
   "cell_type": "code",
   "execution_count": null,
   "metadata": {},
   "outputs": [],
   "source": [
    "food[5]"
   ]
  },
  {
   "cell_type": "code",
   "execution_count": null,
   "metadata": {},
   "outputs": [],
   "source": [
    "food[2]"
   ]
  },
  {
   "cell_type": "code",
   "execution_count": null,
   "metadata": {
    "collapsed": true
   },
   "outputs": [],
   "source": [
    "index = -2"
   ]
  },
  {
   "cell_type": "code",
   "execution_count": null,
   "metadata": {
    "collapsed": true
   },
   "outputs": [],
   "source": [
    "mass_index = df['MSTAR'] <= 0.6"
   ]
  },
  {
   "cell_type": "code",
   "execution_count": null,
   "metadata": {
    "collapsed": true
   },
   "outputs": [],
   "source": [
    "mass_values = df['MSTAR']"
   ]
  },
  {
   "cell_type": "code",
   "execution_count": null,
   "metadata": {},
   "outputs": [],
   "source": [
    "mass_values[mass_index]"
   ]
  },
  {
   "cell_type": "code",
   "execution_count": null,
   "metadata": {},
   "outputs": [],
   "source": [
    "df['TEFF'].loc[mass_index] #locates the values in TEFF that falls under the category of mass_index"
   ]
  },
  {
   "cell_type": "code",
   "execution_count": null,
   "metadata": {},
   "outputs": [],
   "source": [
    "new_df = df.df"
   ]
  },
  {
   "cell_type": "code",
   "execution_count": null,
   "metadata": {},
   "outputs": [],
   "source": [
    "df.sort_values(df['TEFF'].loc[mass_index])"
   ]
  },
  {
   "cell_type": "code",
   "execution_count": null,
   "metadata": {
    "collapsed": true
   },
   "outputs": [],
   "source": [
    "newMstarColumn = df['MSTAR'].loc[mass_index] "
   ]
  },
  {
   "cell_type": "code",
   "execution_count": null,
   "metadata": {},
   "outputs": [],
   "source": [
    "print newMstarColumn"
   ]
  },
  {
   "cell_type": "code",
   "execution_count": null,
   "metadata": {},
   "outputs": [],
   "source": [
    "df.loc[mass_index]"
   ]
  },
  {
   "cell_type": "code",
   "execution_count": null,
   "metadata": {
    "collapsed": true
   },
   "outputs": [],
   "source": []
  }
 ],
 "metadata": {
  "kernelspec": {
   "display_name": "Python 3",
   "language": "python",
   "name": "python3"
  },
  "language_info": {
   "codemirror_mode": {
    "name": "ipython",
    "version": 3
   },
   "file_extension": ".py",
   "mimetype": "text/x-python",
   "name": "python",
   "nbconvert_exporter": "python",
   "pygments_lexer": "ipython3",
   "version": "3.6.2"
  }
 },
 "nbformat": 4,
 "nbformat_minor": 2
}
