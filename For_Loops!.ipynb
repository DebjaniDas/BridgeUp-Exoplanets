{
 "cells": [
  {
   "cell_type": "code",
   "execution_count": 3,
   "metadata": {},
   "outputs": [
    {
     "name": "stdout",
     "output_type": "stream",
     "text": [
      "darth siths\n",
      "1\n",
      "darth siths\n",
      "2\n",
      "darth siths\n",
      "3\n"
     ]
    }
   ],
   "source": [
    "for element in [1,2,3]:\n",
    "    print ('darth siths')\n",
    "    print(element)"
   ]
  },
  {
   "cell_type": "code",
   "execution_count": 2,
   "metadata": {},
   "outputs": [
    {
     "ename": "SyntaxError",
     "evalue": "invalid syntax (<ipython-input-2-1f3b7809640d>, line 1)",
     "output_type": "error",
     "traceback": [
      "\u001b[0;36m  File \u001b[0;32m\"<ipython-input-2-1f3b7809640d>\"\u001b[0;36m, line \u001b[0;32m1\u001b[0m\n\u001b[0;31m    for element == [1,2,3]:\u001b[0m\n\u001b[0m                 ^\u001b[0m\n\u001b[0;31mSyntaxError\u001b[0m\u001b[0;31m:\u001b[0m invalid syntax\n"
     ]
    }
   ],
   "source": [
    "for element == [1,2,3]:\n",
    "    print (element)"
   ]
  },
  {
   "cell_type": "code",
   "execution_count": 4,
   "metadata": {},
   "outputs": [
    {
     "name": "stdout",
     "output_type": "stream",
     "text": [
      "0\n",
      "1\n",
      "2\n",
      "3\n",
      "4\n",
      "5\n",
      "6\n",
      "7\n",
      "8\n",
      "9\n"
     ]
    }
   ],
   "source": [
    "x = 0\n",
    "\n",
    "while x < 10:\n",
    "    print (x)\n",
    "    x+=1"
   ]
  },
  {
   "cell_type": "code",
   "execution_count": 20,
   "metadata": {
    "scrolled": true
   },
   "outputs": [
    {
     "name": "stdout",
     "output_type": "stream",
     "text": [
      "4\n"
     ]
    }
   ],
   "source": [
    "numbers = [0,4,40,0,0,0,601,6,6,6] #we are making our list of numbers!\n",
    "x = 0 #setting x to zero, and x is going to represent the number of zeroes in our list\n",
    "\n",
    "def count_zeroes(num_list, x): #defining our function and naming it count_zeroes and we are giving it the parameters num_list which is our list and x\n",
    "    for element in num_list: #for each number in list, if num is = 0, then we add one to x\n",
    "        if element == 0:\n",
    "            x+= 1\n",
    "    print (x)   #print x, which is the total number of zeroes after our for loop finishes with the list    \n",
    "\n",
    "count_zeroes(numbers, x) #calls our function, and gives it numbers (our list) and x"
   ]
  },
  {
   "cell_type": "code",
   "execution_count": 25,
   "metadata": {},
   "outputs": [
    {
     "name": "stdout",
     "output_type": "stream",
     "text": [
      "7\n"
     ]
    }
   ],
   "source": [
    "new_list = [1,2,3,7,8,9,21] #makes our list of numbers\n",
    "x=0 #sets our variable x to 0, x will represent the length of the list\n",
    "\n",
    "def get_length(num_list, x): #defining our function, calling it get_length, giving it parameters num_list (our list), and x\n",
    "    for element in num_list: #for each number in the list, adds one to x\n",
    "        x+=1\n",
    "    print(x) #printing the total number for x once\n",
    "\n",
    "get_length(new_list,x) #calling the function and giving it our list and x\n",
    "        "
   ]
  },
  {
   "cell_type": "code",
   "execution_count": 29,
   "metadata": {},
   "outputs": [
    {
     "name": "stdout",
     "output_type": "stream",
     "text": [
      "y is largest\n"
     ]
    }
   ],
   "source": [
    "x=0 \n",
    "y=14\n",
    "z=3\n",
    "\n",
    "def get_max(x,y,z):\n",
    "    if (x > y and x >z):\n",
    "        print ('x is largest')\n",
    "    elif(y>x and y>z):\n",
    "        print ('y is largest')\n",
    "    elif (z>x and z>y):\n",
    "        print ('z is largest')\n",
    "    else:\n",
    "        print ('meh!')\n",
    "        \n",
    "get_max(x,y,z)"
   ]
  },
  {
   "cell_type": "code",
   "execution_count": null,
   "metadata": {},
   "outputs": [],
   "source": []
  }
 ],
 "metadata": {
  "kernelspec": {
   "display_name": "Python 3",
   "language": "python",
   "name": "python3"
  },
  "language_info": {
   "codemirror_mode": {
    "name": "ipython",
    "version": 3
   },
   "file_extension": ".py",
   "mimetype": "text/x-python",
   "name": "python",
   "nbconvert_exporter": "python",
   "pygments_lexer": "ipython3",
   "version": "3.6.4"
  }
 },
 "nbformat": 4,
 "nbformat_minor": 2
}
