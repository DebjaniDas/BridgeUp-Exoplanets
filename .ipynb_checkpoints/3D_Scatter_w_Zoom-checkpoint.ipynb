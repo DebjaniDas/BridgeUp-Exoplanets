{
 "cells": [
  {
   "cell_type": "code",
   "execution_count": 1,
   "metadata": {},
   "outputs": [
    {
     "name": "stdout",
     "output_type": "stream",
     "text": [
      "Using matplotlib backend: TkAgg\n",
      "Populating the interactive namespace from numpy and matplotlib\n"
     ]
    }
   ],
   "source": [
    "% pylab"
   ]
  },
  {
   "cell_type": "code",
   "execution_count": 2,
   "metadata": {},
   "outputs": [],
   "source": [
    "import pandas as pd\n",
    "import numpy as np\n",
    "\n",
    "import matplotlib.pyplot as plt\n",
    "from mpl_toolkits.mplot3d import Axes3D"
   ]
  },
  {
   "cell_type": "code",
   "execution_count": 3,
   "metadata": {},
   "outputs": [
    {
     "data": {
      "text/plain": [
       "<mpl_toolkits.mplot3d.art3d.Path3DCollection at 0x10f4ebba8>"
      ]
     },
     "execution_count": 3,
     "metadata": {},
     "output_type": "execute_result"
    }
   ],
   "source": [
    "x = np.random.rand(50)\n",
    "y = np.random.rand(50)\n",
    "z = np.random.rand(50)\n",
    "\n",
    "# This generates a fourth variable that is equal to z\n",
    "# This means it has the same length as z, which is 50.\n",
    "height = z\n",
    "\n",
    "density = 100*np.random.rand(50)\n",
    "\n",
    "fig = plt.figure(figsize=[10, 8]) \n",
    "ax = fig.add_subplot(111, facecolor='LightCyan', projection='3d')\n",
    "\n",
    "ax.scatter(x, y, z, c=height, cmap='cool', s=density, marker='^')  \n",
    "\n",
    "# ax.set_axis_off()"
   ]
  },
  {
   "cell_type": "code",
   "execution_count": 4,
   "metadata": {},
   "outputs": [],
   "source": [
    "import matplotlib.pyplot as plt\n",
    "\n",
    "def zoom_factory(ax,base_scale = 2.):\n",
    "    def zoom_fun(event):\n",
    "        # get the current x and y limits\n",
    "        cur_xlim = ax.get_xlim()\n",
    "        cur_ylim = ax.get_ylim()\n",
    "        \n",
    "        cur_xrange = (cur_xlim[1] - cur_xlim[0])*.5\n",
    "        cur_yrange = (cur_ylim[1] - cur_ylim[0])*.5\n",
    " \n",
    "        \n",
    "        \n",
    "        xdata = event.xdata # get event x location\n",
    "        ydata = event.ydata # get event y location\n",
    "\n",
    "        \n",
    "        if event.button == 'up':\n",
    "            # deal with zoom in\n",
    "            scale_factor = 1/base_scale\n",
    "        elif event.button == 'down':\n",
    "            # deal with zoom out\n",
    "            scale_factor = base_scale\n",
    "        else:\n",
    "            # deal with something that should never happen\n",
    "            scale_factor = 1\n",
    "            print (event.button)\n",
    "            \n",
    "        # set new limits\n",
    "        ax.set_xlim([xdata - cur_xrange*scale_factor,\n",
    "                     xdata + cur_xrange*scale_factor])\n",
    "        ax.set_ylim([ydata - cur_yrange*scale_factor,\n",
    "                     ydata + cur_yrange*scale_factor])\n",
    "\n",
    "        plt.draw() # force re-draw\n",
    "\n",
    "    fig = ax.get_figure() # get the figure of interest\n",
    "    # attach the call back\n",
    "    fig.canvas.mpl_connect('scroll_event',zoom_fun)\n",
    "\n",
    "    #return the function\n",
    "    return zoom_fun\n",
    "\n"
   ]
  },
  {
   "cell_type": "code",
   "execution_count": 5,
   "metadata": {},
   "outputs": [
    {
     "data": {
      "text/plain": [
       "<function __main__.zoom_factory.<locals>.zoom_fun>"
      ]
     },
     "execution_count": 5,
     "metadata": {},
     "output_type": "execute_result"
    }
   ],
   "source": [
    "scale = 1.5\n",
    "zoom_factory(ax,base_scale = scale)"
   ]
  },
  {
   "cell_type": "code",
   "execution_count": null,
   "metadata": {},
   "outputs": [],
   "source": []
  }
 ],
 "metadata": {
  "kernelspec": {
   "display_name": "Python 3",
   "language": "python",
   "name": "python3"
  },
  "language_info": {
   "codemirror_mode": {
    "name": "ipython",
    "version": 3
   },
   "file_extension": ".py",
   "mimetype": "text/x-python",
   "name": "python",
   "nbconvert_exporter": "python",
   "pygments_lexer": "ipython3",
   "version": "3.6.4"
  }
 },
 "nbformat": 4,
 "nbformat_minor": 2
}
