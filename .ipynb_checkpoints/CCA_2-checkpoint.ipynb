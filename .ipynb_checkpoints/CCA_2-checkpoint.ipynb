{
 "cells": [
  {
   "cell_type": "code",
   "execution_count": 1,
   "metadata": {},
   "outputs": [
    {
     "name": "stdout",
     "output_type": "stream",
     "text": [
      "Using matplotlib backend: TkAgg\n",
      "Populating the interactive namespace from numpy and matplotlib\n"
     ]
    }
   ],
   "source": [
    "%pylab"
   ]
  },
  {
   "cell_type": "code",
   "execution_count": 2,
   "metadata": {},
   "outputs": [],
   "source": [
    "import pandas as pd\n",
    "import numpy as np\n",
    "\n",
    "import matplotlib.pyplot as plt\n",
    "from astropy import units as u\n",
    "from astropy.coordinates import SkyCoord\n",
    "from mpl_toolkits.mplot3d import Axes3D"
   ]
  },
  {
   "cell_type": "code",
   "execution_count": 4,
   "metadata": {},
   "outputs": [],
   "source": [
    "df = pd.read_csv('25pc.csv')"
   ]
  },
  {
   "cell_type": "code",
   "execution_count": 6,
   "metadata": {},
   "outputs": [
    {
     "data": {
      "text/plain": [
       "Index(['ra', 'dec', 'source_id', 'parallax', 'parallax_error', 'pmra',\n",
       "       'pmra_error', 'pmdec', 'pmdec_error', 'phot_g_mean_mag',\n",
       "       'astrometric_sigma5d_max', 'astrometric_excess_noise',\n",
       "       'visibility_periods_used', 'astrometric_matched_observations',\n",
       "       'astrometric_n_good_obs_al', 'astrometric_sigma5d_max.1', 'bp_rp',\n",
       "       'g_rp', 'source_id.1', 'original_ext_source_id', 'tmass_oid',\n",
       "       'number_of_neighbours', 'number_of_mates',\n",
       "       'best_neighbour_multiplicity', 'tmass_oid.1', 'designation', 'ra.1',\n",
       "       'dec.1', 'j_m', 'j_msigcom', 'h_m', 'h_msigcom', 'ks_m', 'ks_msigcom',\n",
       "       'j_date', 'source_id.2', 'original_ext_source_id.1', 'sdssdr9_oid',\n",
       "       'number_of_neighbours.1', 'number_of_mates.1',\n",
       "       'best_neighbour_multiplicity.1', 'sdssdr9_oid.1', 'obj_id', 'ra.2',\n",
       "       'dec.2', 'mjd', 'r_mag', 'r_mag_error', 'i_mag', 'i_mag_error', 'z_mag',\n",
       "       'z_mag_error', 'objc_type', 'source_id.3', 'original_ext_source_id.2',\n",
       "       'allwise_oid', 'number_of_neighbours.2', 'number_of_mates.2',\n",
       "       'best_neighbour_multiplicity.2', 'allwise_oid.1', 'designation.1',\n",
       "       'ra.3', 'dec.3', 'w1mpro', 'w1mpro_error', 'w2mpro', 'w2mpro_error',\n",
       "       'w3mpro', 'w3mpro_error', 'cc_flags', 'w1mjd_mean', 'w2mjd_mean',\n",
       "       'w3mjd_mean', 'tmass_key'],\n",
       "      dtype='object')"
      ]
     },
     "execution_count": 6,
     "metadata": {},
     "output_type": "execute_result"
    }
   ],
   "source": [
    "df.columns"
   ]
  },
  {
   "cell_type": "code",
   "execution_count": 9,
   "metadata": {},
   "outputs": [],
   "source": [
    "ra = df['ra']\n",
    "dec = df['dec']\n",
    "dist = 1./(df['parallax']/1000)"
   ]
  },
  {
   "cell_type": "code",
   "execution_count": 17,
   "metadata": {},
   "outputs": [],
   "source": [
    "x = (dist * np.cos(dec) *np.cos(ra))\n",
    "y = (dist * np.cos(dec) *np.sin(ra))\n",
    "z = (dist * np.sin(dec))"
   ]
  },
  {
   "cell_type": "code",
   "execution_count": 21,
   "metadata": {},
   "outputs": [],
   "source": [
    "a = -500\n",
    "b = 500\n",
    "c = -500\n",
    "d = 500\n",
    "e = -500\n",
    "f = 500"
   ]
  },
  {
   "cell_type": "code",
   "execution_count": 20,
   "metadata": {},
   "outputs": [],
   "source": [
    "fig = plt.figure(figsize=[10, 8]) \n",
    "ax = fig.add_subplot(111, projection = \"3d\", xlim = (a,b), ylim = (c,d), zlim = (e,f))\n",
    "#panning\n",
    "def on_key_press_left(event): #creates our event handling function to move left on the x-axis by subtracting 5\n",
    "    if event.key == 'left': #if the key pressed is the left arrow\n",
    "        global a #tells our function that we defined 'a' outside of the function\n",
    "        global b #^\n",
    "        a = a-50 #subtracts 50 from the value of a each time the key is pressed\n",
    "        b = b-50 #^\n",
    "        ax.set_xlim([a,b]) #resets the x-axis limits to new 'a' and 'b'\n",
    "        plt.show() #re-shows the plot so we can see the change in axis\n",
    "\n",
    "fig.canvas.mpl_connect('key_press_event', on_key_press_left) \n",
    "#connects our figure with our above function; tells the figure that it should expect a key_press\n",
    "\n",
    "def on_key_press_right(event): #creates our event handling function to move right on the x-axis by adding 5\n",
    "    if event.key == 'right': #if the key pressed is the right arrow\n",
    "        global a #tells our function that we defined 'a' outside of the function\n",
    "        global b #^\n",
    "        a = a+50 #adds 50 from the value of a each time the key is pressed\n",
    "        b = b+50 #^\n",
    "        ax.set_xlim([a,b]) #resets the x-axis limits to new 'a' and 'b'\n",
    "        plt.show() #re-shows the plot so we can see the change in axis\n",
    "\n",
    "fig.canvas.mpl_connect('key_press_event', on_key_press_right) \n",
    "#connects our figure with our above function; tells the figure that it should expect a key_press\n",
    "\n",
    "def on_key_press_down(event): #creates our event handling function to move out on the y-axis by subtracting 5\n",
    "    if event.key == 'down': #if the key pressed is the down arrow\n",
    "        global c #tells our function that we defined 'c' outside of the function\n",
    "        global d #^\n",
    "        c = c-50 #subtracts 50 from the value of a each time the key is pressed\n",
    "        d = d-50 #^\n",
    "        ax.set_ylim([c,d]) #resets the y-axis limits to new 'c' and 'd'\n",
    "        plt.show() #re-shows the plot so we can see the change in axis\n",
    "\n",
    "fig.canvas.mpl_connect('key_press_event', on_key_press_down) \n",
    "#connects our figure with our above function; tells the figure that it should expect a key_press\n",
    "\n",
    "def on_key_press_up(event): #creates our event handling function to move in on the y-axis by adding 5\n",
    "    if event.key == 'up': #if the key pressed is the up arrow\n",
    "        global c #tells our function that we defined 'c' outside of the function\n",
    "        global d #^\n",
    "        c = c+50 #adds 50 from the value of a each time the key is pressed\n",
    "        d = d+50 #^\n",
    "        ax.set_ylim([c,d]) #resets the y-axis limits to new 'c' and 'd'\n",
    "        plt.show() #re-shows the plot so we can see the change in axis\n",
    "\n",
    "fig.canvas.mpl_connect('key_press_event', on_key_press_up) \n",
    "#connects our figure with our above function; tells the figure that it should expect a key_press\n",
    "\n",
    "def on_key_press_zminus(event): #creates our event handling function to move in on the z-axis by adding 5\n",
    "    if event.key == 'r': #if the key pressed is the r key\n",
    "        global e #tells our function that we defined 'e' outside of the function\n",
    "        global f #^\n",
    "        e = e-50 #subtracts 50 from the value of a each time the key is pressed\n",
    "        f = f-50 #^\n",
    "        ax.set_zlim([e,f]) #resets the y-axis limits to new 'c' and 'd'\n",
    "        plt.show() #re-shows the plot so we can see the change in axis\n",
    "\n",
    "fig.canvas.mpl_connect('key_press_event', on_key_press_zminus) \n",
    "#connects our figure with our above function; tells the figure that it should expect a key_press\n",
    "\n",
    "def on_key_press_zplus(event): #creates our event handling function to move up on the y-axis by adding 5\n",
    "    if event.key == 't': #if the key pressed is the t key\n",
    "        global e #tells our function that we defined 'e' outside of the function\n",
    "        global f #^\n",
    "        e = e+50 #adds 50 from the value of a each time the key is pressed\n",
    "        f = f+50 #^\n",
    "        ax.set_zlim([e,f]) #resets the y-axis limits to new 'c' and 'd'\n",
    "        plt.show() #re-shows the plot so we can see the change in axis\n",
    "\n",
    "fig.canvas.mpl_connect('key_press_event', on_key_press_zplus) \n",
    "#connects our figure with our above function; tells the figure that it should expect a key_press\n",
    "\n",
    "def zoom_factory(ax,base_scale = 2.):\n",
    "    def zoom_fun(event):\n",
    "        # get the current x and y limits\n",
    "        cur_xlim = ax.get_xlim()\n",
    "        cur_ylim = ax.get_ylim()\n",
    "        cur_xrange = (cur_xlim[1] - cur_xlim[0])*.5\n",
    "        cur_yrange = (cur_ylim[1] - cur_ylim[0])*.5\n",
    "        xdata = event.xdata # get event x location\n",
    "        ydata = event.ydata # get event y location\n",
    "        if event.button == 'up':\n",
    "            # deal with zoom in\n",
    "            scale_factor = 1/base_scale\n",
    "        elif event.button == 'down':\n",
    "            # deal with zoom out\n",
    "            scale_factor = base_scale\n",
    "        else:\n",
    "            # deal with something that should never happen\n",
    "            scale_factor = 1\n",
    "            print (event.button)\n",
    "        # set new limits\n",
    "        ax.set_xlim([xdata - cur_xrange*scale_factor,\n",
    "                     xdata + cur_xrange*scale_factor])\n",
    "        ax.set_ylim([ydata - cur_yrange*scale_factor,\n",
    "                     ydata + cur_yrange*scale_factor])\n",
    "        plt.draw() # force re-draw\n",
    "\n",
    "    fig = ax.get_figure() # get the figure of interest\n",
    "    # attach the call back\n",
    "    fig.canvas.mpl_connect('scroll_event',zoom_fun)\n",
    "\n",
    "    #return the function\n",
    "    return zoom_fun\n",
    "\n",
    "\n",
    "ax.scatter(x, y, z)\n",
    "scale = 1.5\n",
    "fig = zoom_factory(ax,base_scale = scale)\n",
    "ax.set_axis_off()"
   ]
  },
  {
   "cell_type": "code",
   "execution_count": null,
   "metadata": {},
   "outputs": [],
   "source": []
  }
 ],
 "metadata": {
  "kernelspec": {
   "display_name": "Python 3",
   "language": "python",
   "name": "python3"
  },
  "language_info": {
   "codemirror_mode": {
    "name": "ipython",
    "version": 3
   },
   "file_extension": ".py",
   "mimetype": "text/x-python",
   "name": "python",
   "nbconvert_exporter": "python",
   "pygments_lexer": "ipython3",
   "version": "3.6.4"
  }
 },
 "nbformat": 4,
 "nbformat_minor": 2
}
