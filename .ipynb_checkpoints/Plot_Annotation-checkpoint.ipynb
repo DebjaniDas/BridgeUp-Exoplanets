{
 "cells": [
  {
   "cell_type": "markdown",
   "metadata": {},
   "source": [
    "# Plot annotation"
   ]
  },
  {
   "cell_type": "code",
   "execution_count": 1,
   "metadata": {},
   "outputs": [
    {
     "name": "stdout",
     "output_type": "stream",
     "text": [
      "Using matplotlib backend: TkAgg\n",
      "Populating the interactive namespace from numpy and matplotlib\n"
     ]
    }
   ],
   "source": [
    "% pylab \n",
    "#remember that we need pylab for interactive plots to work from notebooks"
   ]
  },
  {
   "cell_type": "code",
   "execution_count": 2,
   "metadata": {},
   "outputs": [],
   "source": [
    "import numpy as np\n",
    "import pandas as pd\n",
    "import matplotlib.pyplot as plt\n",
    "import matplotlib.animation as ani\n",
    "import itertools\n"
   ]
  },
  {
   "cell_type": "code",
   "execution_count": 3,
   "metadata": {},
   "outputs": [],
   "source": [
    "description_font = {'fontname':'Courier New'}"
   ]
  },
  {
   "cell_type": "markdown",
   "metadata": {},
   "source": [
    "Great we set up our matplotlib environment and imports, let's bring in our dataframes and variables"
   ]
  },
  {
   "cell_type": "code",
   "execution_count": 4,
   "metadata": {},
   "outputs": [],
   "source": [
    "df = pd.read_csv('planets.csv')\n",
    "exodf = df.loc[(df['st_mass']<= 0.6) & (df['st_teff'] < 6000) & (df['pl_orbsmax'] > 0)]\n",
    "stardf = df.loc[(df['st_mass']<= 0.6) & (df['st_teff'] < 6000) & (df.duplicated('pl_hostname')) & (df['pl_orbsmax'] > 0)]"
   ]
  },
  {
   "cell_type": "code",
   "execution_count": 5,
   "metadata": {},
   "outputs": [],
   "source": [
    "ra = stardf['ra']\n",
    "dec = stardf['dec']\n",
    "distance = stardf['st_dist']\n",
    "stellar_mass = stardf['st_mass']\n",
    "teff = stardf['st_teff']\n",
    "star_name = exodf['pl_hostname']"
   ]
  },
  {
   "cell_type": "code",
   "execution_count": 6,
   "metadata": {},
   "outputs": [],
   "source": [
    "x = (distance * np.cos(dec) *np.cos(ra))\n",
    "y = (distance * np.cos(dec) *np.sin(ra))\n",
    "z = (distance * np.sin(dec))"
   ]
  },
  {
   "cell_type": "markdown",
   "metadata": {},
   "source": [
    "Next we give our labels for translating between our first graph and the graph we open with an `on_pick` event."
   ]
  },
  {
   "cell_type": "code",
   "execution_count": 7,
   "metadata": {},
   "outputs": [],
   "source": [
    "labels_column = stardf['pl_hostname']\n",
    "labels = labels_column.values"
   ]
  },
  {
   "cell_type": "code",
   "execution_count": 8,
   "metadata": {},
   "outputs": [],
   "source": [
    "colors = itertools.cycle(['#cc1a1a', '#0c6322', '1a5ecc'])"
   ]
  },
  {
   "cell_type": "code",
   "execution_count": 9,
   "metadata": {},
   "outputs": [],
   "source": [
    "from mpl_toolkits.mplot3d import Axes3D"
   ]
  },
  {
   "cell_type": "markdown",
   "metadata": {},
   "source": [
    "** This next function is important because it's what tells `matplotlib` what to do when we click. **"
   ]
  },
  {
   "cell_type": "markdown",
   "metadata": {},
   "source": [
    "Now we need to redefine our plot using the onpick function we defined above. **Notice how we make sure to connect our canvas to the `onpick` function we defined above.**"
   ]
  },
  {
   "cell_type": "code",
   "execution_count": 12,
   "metadata": {},
   "outputs": [],
   "source": [
    "def onpick(event): #this first line defines our function, and takes in an `event`\n",
    "    \n",
    "    ind = event.ind #here we select an `attribute` of our event, this one is the indices\n",
    "    star_label= labels[ind]\n",
    "\n",
    "        \n",
    "    our_df = exodf.loc[star_name == star_label[0]]\n",
    "    num_of_planets= our_df['pl_pnum'] #the number of planets per star\n",
    "    orb_radius= our_df['pl_orbsmax'] #the semi-major axis radius of the planet\n",
    "\n",
    "    orbradii= orb_radius.loc[np.isfinite(orb_radius)].sort_values()\n",
    "    \n",
    "    orbradii= orbradii.values #this turns a column into numbers\n",
    "    #print(orbradii)\n",
    "    \n",
    "    if len(orbradii) > 0:\n",
    "        planet_total = len(orbradii)\n",
    "        fig2= plt.figure()\n",
    "        ax2= fig2.add_subplot(111,xlim=(-max(orbradii)-1, max(orbradii)+1), ylim=(-max(orbradii)-1, max(orbradii)+1))   \n",
    "        \n",
    "        for radius in orbradii:\n",
    "            \n",
    "            x = np.linspace(-1.0, 1.0, 100) #this adds enough points to complete the circle\n",
    "            y = np.linspace(-1.0, 1.0, 100)\n",
    "            X, Y = np.meshgrid(x,y)\n",
    "            F = X**2 + Y**2 - radius #the rest of this equation draws the circle, 0.2 adds the radius\n",
    "            ax2.contour(X,Y,F,[0], colors=next(colors))\n",
    "        \n",
    "        ax2.scatter(0,0, marker='*', s=20, c=our_df['st_teff'].iloc[0], cmap='hot')\n",
    "        text = 'Name = {}\\nDistance from Sun = {} parsec\\nTotal Planets = {}\\nEffective Temp = {} K\\nMass = {} M_Sun'.format(\n",
    "            star_name.values[0],our_df['st_dist'].iloc[0],num_of_planets.iloc[0],our_df['st_teff'].iloc[0],our_df['st_mass'].iloc[0])\n",
    "        ax2.annotate(text, xy=(0.6, 0.8), xycoords='axes fraction', **description_font)\n",
    "        #iloc gets you the index of a row or set of rows since you already have indexed into the column\n",
    "        \n",
    "        ax2.spines['right'].set_visible(False)\n",
    "        ax2.spines['top'].set_visible(False)\n",
    "            \n",
    "        plt.gca().set_aspect('equal', adjustable='box')\n",
    "        plt.show()"
   ]
  },
  {
   "cell_type": "code",
   "execution_count": 13,
   "metadata": {},
   "outputs": [
    {
     "data": {
      "text/plain": [
       "10"
      ]
     },
     "execution_count": 13,
     "metadata": {},
     "output_type": "execute_result"
    },
    {
     "name": "stderr",
     "output_type": "stream",
     "text": [
      "Traceback (most recent call last):\n",
      "  File \"/anaconda3/lib/python3.6/site-packages/matplotlib/colors.py\", line 132, in to_rgba\n",
      "    rgba = _colors_full_map.cache[c, alpha]\n",
      "KeyError: ('1a5ecc', None)\n",
      "\n",
      "During handling of the above exception, another exception occurred:\n",
      "\n",
      "Traceback (most recent call last):\n",
      "  File \"/anaconda3/lib/python3.6/site-packages/matplotlib/cbook/__init__.py\", line 388, in process\n",
      "    proxy(*args, **kwargs)\n",
      "  File \"/anaconda3/lib/python3.6/site-packages/matplotlib/cbook/__init__.py\", line 228, in __call__\n",
      "    return mtd(*args, **kwargs)\n",
      "  File \"<ipython-input-12-236ff153ab7f>\", line 27, in onpick\n",
      "    ax2.contour(X,Y,F,[0], colors=next(colors))\n",
      "  File \"/anaconda3/lib/python3.6/site-packages/matplotlib/__init__.py\", line 1717, in inner\n",
      "    return func(ax, *args, **kwargs)\n",
      "  File \"/anaconda3/lib/python3.6/site-packages/matplotlib/axes/_axes.py\", line 5817, in contour\n",
      "    contours = mcontour.QuadContourSet(self, *args, **kwargs)\n",
      "  File \"/anaconda3/lib/python3.6/site-packages/matplotlib/contour.py\", line 903, in __init__\n",
      "    self._process_colors()\n",
      "  File \"/anaconda3/lib/python3.6/site-packages/matplotlib/contour.py\", line 1278, in _process_colors\n",
      "    self.set_norm(colors.NoNorm())\n",
      "  File \"/anaconda3/lib/python3.6/site-packages/matplotlib/cm.py\", line 346, in set_norm\n",
      "    self.changed()\n",
      "  File \"/anaconda3/lib/python3.6/site-packages/matplotlib/contour.py\", line 1110, in changed\n",
      "    for rgba in self.to_rgba(self.cvalues, alpha=self.alpha)]\n",
      "  File \"/anaconda3/lib/python3.6/site-packages/matplotlib/cm.py\", line 276, in to_rgba\n",
      "    rgba = self.cmap(x, alpha=alpha, bytes=bytes)\n",
      "  File \"/anaconda3/lib/python3.6/site-packages/matplotlib/colors.py\", line 458, in __call__\n",
      "    self._init()\n",
      "  File \"/anaconda3/lib/python3.6/site-packages/matplotlib/colors.py\", line 814, in _init\n",
      "    rgba = colorConverter.to_rgba_array(self.colors)\n",
      "  File \"/anaconda3/lib/python3.6/site-packages/matplotlib/colors.py\", line 330, in to_rgba_array\n",
      "    return to_rgba_array(arg, alpha)\n",
      "  File \"/anaconda3/lib/python3.6/site-packages/matplotlib/colors.py\", line 233, in to_rgba_array\n",
      "    result[i] = to_rgba(cc, alpha)\n",
      "  File \"/anaconda3/lib/python3.6/site-packages/matplotlib/colors.py\", line 134, in to_rgba\n",
      "    rgba = _to_rgba_no_colorcycle(c, alpha)\n",
      "  File \"/anaconda3/lib/python3.6/site-packages/matplotlib/colors.py\", line 178, in _to_rgba_no_colorcycle\n",
      "    raise ValueError(\"Invalid RGBA argument: {!r}\".format(orig_c))\n",
      "ValueError: Invalid RGBA argument: '1a5ecc'\n",
      "Traceback (most recent call last):\n",
      "  File \"/anaconda3/lib/python3.6/site-packages/matplotlib/colors.py\", line 132, in to_rgba\n",
      "    rgba = _colors_full_map.cache[c, alpha]\n",
      "KeyError: ('1a5ecc', None)\n",
      "\n",
      "During handling of the above exception, another exception occurred:\n",
      "\n",
      "Traceback (most recent call last):\n",
      "  File \"/anaconda3/lib/python3.6/site-packages/matplotlib/cbook/__init__.py\", line 388, in process\n",
      "    proxy(*args, **kwargs)\n",
      "  File \"/anaconda3/lib/python3.6/site-packages/matplotlib/cbook/__init__.py\", line 228, in __call__\n",
      "    return mtd(*args, **kwargs)\n",
      "  File \"<ipython-input-12-236ff153ab7f>\", line 27, in onpick\n",
      "    ax2.contour(X,Y,F,[0], colors=next(colors))\n",
      "  File \"/anaconda3/lib/python3.6/site-packages/matplotlib/__init__.py\", line 1717, in inner\n",
      "    return func(ax, *args, **kwargs)\n",
      "  File \"/anaconda3/lib/python3.6/site-packages/matplotlib/axes/_axes.py\", line 5817, in contour\n",
      "    contours = mcontour.QuadContourSet(self, *args, **kwargs)\n",
      "  File \"/anaconda3/lib/python3.6/site-packages/matplotlib/contour.py\", line 903, in __init__\n",
      "    self._process_colors()\n",
      "  File \"/anaconda3/lib/python3.6/site-packages/matplotlib/contour.py\", line 1278, in _process_colors\n",
      "    self.set_norm(colors.NoNorm())\n",
      "  File \"/anaconda3/lib/python3.6/site-packages/matplotlib/cm.py\", line 346, in set_norm\n",
      "    self.changed()\n",
      "  File \"/anaconda3/lib/python3.6/site-packages/matplotlib/contour.py\", line 1110, in changed\n",
      "    for rgba in self.to_rgba(self.cvalues, alpha=self.alpha)]\n",
      "  File \"/anaconda3/lib/python3.6/site-packages/matplotlib/cm.py\", line 276, in to_rgba\n",
      "    rgba = self.cmap(x, alpha=alpha, bytes=bytes)\n",
      "  File \"/anaconda3/lib/python3.6/site-packages/matplotlib/colors.py\", line 458, in __call__\n",
      "    self._init()\n",
      "  File \"/anaconda3/lib/python3.6/site-packages/matplotlib/colors.py\", line 814, in _init\n",
      "    rgba = colorConverter.to_rgba_array(self.colors)\n",
      "  File \"/anaconda3/lib/python3.6/site-packages/matplotlib/colors.py\", line 330, in to_rgba_array\n",
      "    return to_rgba_array(arg, alpha)\n",
      "  File \"/anaconda3/lib/python3.6/site-packages/matplotlib/colors.py\", line 233, in to_rgba_array\n",
      "    result[i] = to_rgba(cc, alpha)\n",
      "  File \"/anaconda3/lib/python3.6/site-packages/matplotlib/colors.py\", line 134, in to_rgba\n",
      "    rgba = _to_rgba_no_colorcycle(c, alpha)\n",
      "  File \"/anaconda3/lib/python3.6/site-packages/matplotlib/colors.py\", line 178, in _to_rgba_no_colorcycle\n",
      "    raise ValueError(\"Invalid RGBA argument: {!r}\".format(orig_c))\n",
      "ValueError: Invalid RGBA argument: '1a5ecc'\n"
     ]
    }
   ],
   "source": [
    "fig1 = plt.figure(figsize=[10, 8]) \n",
    "ax1 = fig1.add_subplot(111, projection='3d')\n",
    "col = ax1.scatter(x, y, z, c = teff, cmap= 'plasma', s = 5*((10*stellar_mass)**2), marker = '*', picker=5)\n",
    "ax1.set_axis_off()\n",
    "\n",
    "fig1.canvas.mpl_connect('pick_event', onpick)"
   ]
  },
  {
   "cell_type": "code",
   "execution_count": null,
   "metadata": {},
   "outputs": [],
   "source": []
  },
  {
   "cell_type": "code",
   "execution_count": null,
   "metadata": {},
   "outputs": [],
   "source": []
  },
  {
   "cell_type": "code",
   "execution_count": null,
   "metadata": {},
   "outputs": [],
   "source": []
  },
  {
   "cell_type": "code",
   "execution_count": null,
   "metadata": {},
   "outputs": [],
   "source": []
  },
  {
   "cell_type": "code",
   "execution_count": null,
   "metadata": {},
   "outputs": [],
   "source": []
  }
 ],
 "metadata": {
  "kernelspec": {
   "display_name": "Python 3",
   "language": "python",
   "name": "python3"
  },
  "language_info": {
   "codemirror_mode": {
    "name": "ipython",
    "version": 3
   },
   "file_extension": ".py",
   "mimetype": "text/x-python",
   "name": "python",
   "nbconvert_exporter": "python",
   "pygments_lexer": "ipython3",
   "version": "3.6.4"
  }
 },
 "nbformat": 4,
 "nbformat_minor": 2
}
