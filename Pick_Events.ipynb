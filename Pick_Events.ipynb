{
 "cells": [
  {
   "cell_type": "markdown",
   "metadata": {},
   "source": [
    "# Picking Events in Python\n",
    "\n",
    "Today we're going to learn about how to interactively pick events in `python`. Let's start with importing and creating some random data."
   ]
  },
  {
   "cell_type": "code",
   "execution_count": 71,
   "metadata": {},
   "outputs": [
    {
     "name": "stdout",
     "output_type": "stream",
     "text": [
      "Using matplotlib backend: TkAgg\n",
      "Populating the interactive namespace from numpy and matplotlib\n"
     ]
    }
   ],
   "source": [
    "% pylab \n",
    "#remember that we need pylab for interactive plots to work from notebooks"
   ]
  },
  {
   "cell_type": "code",
   "execution_count": 72,
   "metadata": {},
   "outputs": [],
   "source": [
    "import numpy as np\n",
    "import pandas as pd\n",
    "import matplotlib.pyplot as plt\n",
    "import matplotlib.animation as ani"
   ]
  },
  {
   "cell_type": "markdown",
   "metadata": {},
   "source": [
    "**Challenge:** We need three dimensions of random data points between zero and one hundred. Remember that they all need to be the same length to plot!"
   ]
  },
  {
   "cell_type": "markdown",
   "metadata": {},
   "source": [
    "We also want a color variable to use to color our data. In the past we've used temperature, but since we are working with random data, let's make a random color variable as well. Remember to make it the same length as x, y and z."
   ]
  },
  {
   "cell_type": "code",
   "execution_count": 73,
   "metadata": {},
   "outputs": [],
   "source": [
    "df = pd.read_csv('planets.csv')\n",
    "exodf = df.loc[(df['st_mass']<= 0.6) & (df['st_teff'] < 6000) & (df['pl_orbsmax'] > 0)]\n",
    "stardf = df.loc[(df['st_mass']<= 0.6) & (df['st_teff'] < 6000) & (df.duplicated('pl_hostname')) & (df['pl_orbsmax'] > 0)]"
   ]
  },
  {
   "cell_type": "code",
   "execution_count": 74,
   "metadata": {},
   "outputs": [],
   "source": [
    "ra = stardf['ra']\n",
    "dec = stardf['dec']\n",
    "distance = stardf['st_dist']\n",
    "stellar_mass = stardf['st_mass']\n",
    "teff = stardf['st_teff']\n",
    "star_name = exodf['pl_hostname']"
   ]
  },
  {
   "cell_type": "code",
   "execution_count": 75,
   "metadata": {},
   "outputs": [],
   "source": [
    "x = (distance * np.cos(dec) *np.cos(ra))\n",
    "y = (distance * np.cos(dec) *np.sin(ra))\n",
    "z = (distance * np.sin(dec))"
   ]
  },
  {
   "cell_type": "markdown",
   "metadata": {},
   "source": [
    "**Challenge:** To plot in 3d we need to one more import, and a specific projection. Fix the code below to make a working 3d plot. Hint: Open an old notebook to find the import and the exact projection name."
   ]
  },
  {
   "cell_type": "code",
   "execution_count": 76,
   "metadata": {},
   "outputs": [],
   "source": [
    "labels_column = stardf['pl_hostname']\n",
    "labels = labels_column.values"
   ]
  },
  {
   "cell_type": "code",
   "execution_count": 77,
   "metadata": {},
   "outputs": [],
   "source": [
    "from mpl_toolkits.mplot3d import Axes3D"
   ]
  },
  {
   "cell_type": "markdown",
   "metadata": {},
   "source": [
    "** This next function is important because it's what tells `matplotlib` what to do when we click. **"
   ]
  },
  {
   "cell_type": "markdown",
   "metadata": {},
   "source": [
    "Now we need to redefine our plot using the onpick function we defined above. **Notice how we make sure to connect our canvas to the `onpick` function we defined above.**"
   ]
  },
  {
   "cell_type": "code",
   "execution_count": 78,
   "metadata": {},
   "outputs": [],
   "source": [
    "def init():\n",
    "    for ii in range(len(lines)):\n",
    "        print(lines[ii])\n",
    "        lines[ii][0].set_data([], [])\n",
    "    return lines\n",
    "\n",
    "def animate(i): #i is iterator\n",
    "    angle_factor = np.arange(planet_total)\n",
    "    angle_factor += 1\n",
    "\n",
    "\n",
    "    for ii in range(planet_total):\n",
    "        angle = i/(10. * angle_factor[ii]) * np.pi\n",
    "\n",
    "        moving_x= [0, orbradii[ii]*np.cos(angle)]\n",
    "        moving_y= [0, orbradii[ii]*np.sin(angle)]\n",
    "\n",
    "        lines[ii][0].set_data(moving_x, moving_y)\n",
    "    return lines"
   ]
  },
  {
   "cell_type": "code",
   "execution_count": 79,
   "metadata": {},
   "outputs": [],
   "source": [
    "def onpick(event): #this first line defines our function, and takes in an `event`\n",
    "    \n",
    "    ind = event.ind #here we select an `attribute` of our event, this one is the indices\n",
    "    star_label= labels[ind]\n",
    "\n",
    "        \n",
    "    our_df = exodf.loc[star_name == star_label[0]]\n",
    "    num_of_planets= our_df['pl_pnum'] #the number of planets per star\n",
    "    orb_radius= our_df['pl_orbsmax'] #the semi-major axis radius of the planet\n",
    "\n",
    "    orbradii= orb_radius.loc[np.isfinite(orb_radius)]\n",
    "    \n",
    "    orbradii= orbradii.values #this turns a column into numbers\n",
    "    #print(orbradii)\n",
    "    \n",
    "    if len(orbradii) > 0:\n",
    "        #plt.close()\n",
    "        planet_total = len(orbradii)\n",
    "        fig= plt.figure()\n",
    "        ax= fig.add_subplot(111,xlim=(-max(orbradii), max(orbradii)), ylim=(-max(orbradii), max(orbradii)))   \n",
    "        \n",
    "        \n",
    "        lines = [] \n",
    "        for _ in range(planet_total):\n",
    "            lines.append(ax.plot([], [],'o')) \n",
    "        \n",
    "        \n",
    "        def init():\n",
    "            for ii in range(len(lines)):\n",
    "                print(lines[ii])\n",
    "                lines[ii][0].set_data([], [])\n",
    "            return lines\n",
    "\n",
    "\n",
    "        \n",
    "        def animate(i): #i is iterator\n",
    "            angle_factor = np.arange(planet_total)\n",
    "            angle_factor += 1\n",
    "\n",
    "\n",
    "            for ii in range(planet_total):\n",
    "                angle = i/(10. * angle_factor[ii]) * np.pi\n",
    "\n",
    "                moving_x= [0, orbradii[ii]*np.cos(angle)]\n",
    "                moving_y= [0, orbradii[ii]*np.sin(angle)]\n",
    "\n",
    "                lines[ii][0].set_data(moving_x, moving_y)\n",
    "            return lines\n",
    "        our_animation = ani.FuncAnimation(fig, animate, np.arange(1, 1000), interval=75, init_func=init)\n",
    "        plt.show()"
   ]
  },
  {
   "cell_type": "code",
   "execution_count": 80,
   "metadata": {},
   "outputs": [
    {
     "data": {
      "text/plain": [
       "10"
      ]
     },
     "execution_count": 80,
     "metadata": {},
     "output_type": "execute_result"
    },
    {
     "name": "stderr",
     "output_type": "stream",
     "text": [
      "Traceback (most recent call last):\n",
      "  File \"/anaconda3/lib/python3.6/site-packages/matplotlib/cbook/__init__.py\", line 388, in process\n",
      "    proxy(*args, **kwargs)\n",
      "  File \"/anaconda3/lib/python3.6/site-packages/matplotlib/cbook/__init__.py\", line 228, in __call__\n",
      "    return mtd(*args, **kwargs)\n",
      "  File \"<ipython-input-79-5f8bb068f1c1>\", line 7, in onpick\n",
      "    our_df = exodf.loc[star_name == star_label[0]]\n",
      "  File \"/anaconda3/lib/python3.6/site-packages/pandas/core/indexing.py\", line 1373, in __getitem__\n",
      "    return self._getitem_axis(maybe_callable, axis=axis)\n",
      "  File \"/anaconda3/lib/python3.6/site-packages/pandas/core/indexing.py\", line 1583, in _getitem_axis\n",
      "    return self._getbool_axis(key, axis=axis)\n",
      "  File \"/anaconda3/lib/python3.6/site-packages/pandas/core/indexing.py\", line 1388, in _getbool_axis\n",
      "    key = check_bool_indexer(labels, key)\n",
      "  File \"/anaconda3/lib/python3.6/site-packages/pandas/core/indexing.py\", line 2023, in check_bool_indexer\n",
      "    raise IndexingError('Unalignable boolean Series provided as '\n",
      "pandas.core.indexing.IndexingError: Unalignable boolean Series provided as indexer (index of the boolean Series and of the indexed object do not match\n",
      "Traceback (most recent call last):\n",
      "  File \"/anaconda3/lib/python3.6/site-packages/matplotlib/cbook/__init__.py\", line 388, in process\n",
      "    proxy(*args, **kwargs)\n",
      "  File \"/anaconda3/lib/python3.6/site-packages/matplotlib/cbook/__init__.py\", line 228, in __call__\n",
      "    return mtd(*args, **kwargs)\n",
      "  File \"<ipython-input-79-5f8bb068f1c1>\", line 7, in onpick\n",
      "    our_df = exodf.loc[star_name == star_label[0]]\n",
      "  File \"/anaconda3/lib/python3.6/site-packages/pandas/core/indexing.py\", line 1373, in __getitem__\n",
      "    return self._getitem_axis(maybe_callable, axis=axis)\n",
      "  File \"/anaconda3/lib/python3.6/site-packages/pandas/core/indexing.py\", line 1583, in _getitem_axis\n",
      "    return self._getbool_axis(key, axis=axis)\n",
      "  File \"/anaconda3/lib/python3.6/site-packages/pandas/core/indexing.py\", line 1388, in _getbool_axis\n",
      "    key = check_bool_indexer(labels, key)\n",
      "  File \"/anaconda3/lib/python3.6/site-packages/pandas/core/indexing.py\", line 2023, in check_bool_indexer\n",
      "    raise IndexingError('Unalignable boolean Series provided as '\n",
      "pandas.core.indexing.IndexingError: Unalignable boolean Series provided as indexer (index of the boolean Series and of the indexed object do not match\n",
      "Traceback (most recent call last):\n",
      "  File \"/anaconda3/lib/python3.6/site-packages/matplotlib/cbook/__init__.py\", line 388, in process\n",
      "    proxy(*args, **kwargs)\n",
      "  File \"/anaconda3/lib/python3.6/site-packages/matplotlib/cbook/__init__.py\", line 228, in __call__\n",
      "    return mtd(*args, **kwargs)\n",
      "  File \"<ipython-input-79-5f8bb068f1c1>\", line 7, in onpick\n",
      "    our_df = exodf.loc[star_name == star_label[0]]\n",
      "  File \"/anaconda3/lib/python3.6/site-packages/pandas/core/indexing.py\", line 1373, in __getitem__\n",
      "    return self._getitem_axis(maybe_callable, axis=axis)\n",
      "  File \"/anaconda3/lib/python3.6/site-packages/pandas/core/indexing.py\", line 1583, in _getitem_axis\n",
      "    return self._getbool_axis(key, axis=axis)\n",
      "  File \"/anaconda3/lib/python3.6/site-packages/pandas/core/indexing.py\", line 1388, in _getbool_axis\n",
      "    key = check_bool_indexer(labels, key)\n",
      "  File \"/anaconda3/lib/python3.6/site-packages/pandas/core/indexing.py\", line 2023, in check_bool_indexer\n",
      "    raise IndexingError('Unalignable boolean Series provided as '\n",
      "pandas.core.indexing.IndexingError: Unalignable boolean Series provided as indexer (index of the boolean Series and of the indexed object do not match\n"
     ]
    }
   ],
   "source": [
    "fig1 = plt.figure(figsize=[10, 8]) \n",
    "ax1 = fig1.add_subplot(111, projection='3d')\n",
    "col = ax1.scatter(x, y, z, c = teff, cmap= 'plasma', s = 5*((10*stellar_mass)**2), marker = '*', picker=5)\n",
    "ax1.set_axis_off()\n",
    "\n",
    "fig1.canvas.mpl_connect('pick_event', onpick)"
   ]
  },
  {
   "cell_type": "markdown",
   "metadata": {},
   "source": [
    "Look! Our function prints out our indices when we click on a data point! That's pretty exciting. Let's take a look at the function again and break it down with more detail."
   ]
  },
  {
   "cell_type": "code",
   "execution_count": null,
   "metadata": {},
   "outputs": [],
   "source": []
  },
  {
   "cell_type": "markdown",
   "metadata": {},
   "source": [
    "You went through this tutorial and you learned how to pick events. Congratulations! You have advanced to pick master! Now, we have a new challenge. \n",
    "### See if you can get a new plot window to open up when you click on a data point. For now, it can be an empty plot.\n",
    "\n",
    "Hint: You will want to define new figure. It might help to call your original figure `fig1` and the new figure `fig2`. Why would using the same variable name, like `fig`, for both figures be problematic?"
   ]
  },
  {
   "cell_type": "code",
   "execution_count": null,
   "metadata": {},
   "outputs": [],
   "source": [
    "\n"
   ]
  },
  {
   "cell_type": "code",
   "execution_count": null,
   "metadata": {},
   "outputs": [],
   "source": []
  },
  {
   "cell_type": "code",
   "execution_count": null,
   "metadata": {},
   "outputs": [],
   "source": []
  },
  {
   "cell_type": "code",
   "execution_count": null,
   "metadata": {},
   "outputs": [],
   "source": []
  },
  {
   "cell_type": "code",
   "execution_count": null,
   "metadata": {},
   "outputs": [],
   "source": []
  },
  {
   "cell_type": "code",
   "execution_count": null,
   "metadata": {},
   "outputs": [],
   "source": []
  }
 ],
 "metadata": {
  "kernelspec": {
   "display_name": "Python 3",
   "language": "python",
   "name": "python3"
  },
  "language_info": {
   "codemirror_mode": {
    "name": "ipython",
    "version": 3
   },
   "file_extension": ".py",
   "mimetype": "text/x-python",
   "name": "python",
   "nbconvert_exporter": "python",
   "pygments_lexer": "ipython3",
   "version": "3.6.4"
  }
 },
 "nbformat": 4,
 "nbformat_minor": 2
}
