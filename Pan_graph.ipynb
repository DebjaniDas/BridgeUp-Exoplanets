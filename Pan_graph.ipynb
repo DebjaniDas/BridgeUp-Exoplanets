{
 "cells": [
  {
   "cell_type": "code",
<<<<<<< HEAD:Exoplanets/.ipynb_checkpoints/Shift_graph-checkpoint.ipynb
   "execution_count": 12,
=======
   "execution_count": 2,
>>>>>>> 783f494a0ceb820f3bc62cce503d41941bd012b5:Exoplanets/Pan_graph.ipynb
   "metadata": {},
   "outputs": [
    {
     "name": "stdout",
     "output_type": "stream",
     "text": [
      "Using matplotlib backend: TkAgg\n",
      "Populating the interactive namespace from numpy and matplotlib\n"
     ]
    }
   ],
   "source": [
    "import matplotlib.pyplot as plt\n",
    "import numpy as np\n",
    "import pandas as pd\n",
    "from mpl_toolkits.mplot3d import Axes3D\n",
    "%pylab\n",
    "#imports the libraries we need to use; the last line is so we can use 3 dimensions in our scatter plot"
   ]
  },
  {
   "cell_type": "code",
<<<<<<< HEAD:Exoplanets/.ipynb_checkpoints/Shift_graph-checkpoint.ipynb
   "execution_count": 13,
=======
   "execution_count": 3,
>>>>>>> 783f494a0ceb820f3bc62cce503d41941bd012b5:Exoplanets/Pan_graph.ipynb
   "metadata": {},
   "outputs": [],
   "source": [
    "x = np.random.rand(50) *100\n",
    "y = np.random.rand(50) * 100\n",
    "z = np.random.rand(50) *100\n",
    "#creates random numbers up to 50 for x,y,and z so we'll have 50 datapoints\n",
    "#*100 scales the numbers so they are bigger and easier to plot"
   ]
  },
  {
   "cell_type": "code",
<<<<<<< HEAD:Exoplanets/.ipynb_checkpoints/Shift_graph-checkpoint.ipynb
   "execution_count": 14,
=======
   "execution_count": 4,
>>>>>>> 783f494a0ceb820f3bc62cce503d41941bd012b5:Exoplanets/Pan_graph.ipynb
   "metadata": {},
   "outputs": [
    {
     "name": "stdout",
     "output_type": "stream",
     "text": [
<<<<<<< HEAD:Exoplanets/.ipynb_checkpoints/Shift_graph-checkpoint.ipynb
      "[71.76025117 87.41627595 61.30612066 34.14919211  9.42226605 56.44873542\n",
      " 25.09267379 48.4672674  38.48475057 75.65965915 28.0014341  95.44077309\n",
      " 26.01766707 88.36273126 68.58571733 58.00932472 49.73701931  6.39398443\n",
      "  8.07235464 91.58676365 47.98778331  0.528031   90.83067337 76.48235512\n",
      " 84.14501063 11.91803488 76.658679   58.07149399 86.45371718 34.99597781\n",
      " 96.37815375 35.66718843 29.13262077 40.2329906  65.32879468 55.51082416\n",
      " 47.75891612 76.72992151  3.64805718 94.6426353  87.25506601 50.72925295\n",
      " 36.8114191  33.16264805  3.43463027 16.65429606 68.38470303  2.16673441\n",
      " 53.25876002 59.51819304]\n"
=======
      "[30.92056148 23.5554773  40.02240838 43.20307631 37.26847044 20.14220813\n",
      "  1.5593387  86.63242846  5.68161842 54.73742353 13.17347332 95.84530875\n",
      " 15.97348871 71.81262105 75.14679627 72.8262319  56.21693071 59.76937304\n",
      " 62.47760977 80.40561796 19.40366822 66.08029    17.49418585  6.06411606\n",
      "  2.39994006 17.94149521 16.68166551 33.45949014 93.24273712 19.27130079\n",
      " 48.11673647  9.44452762 22.09813505 64.29335674 98.60100276 48.32852895\n",
      " 65.57903553 80.8590677   5.32709096 74.0220487  80.03249241 59.06424121\n",
      " 27.8314144  78.30882859 29.40623825 66.99120368 27.83584671 98.37737288\n",
      " 67.58501333 81.97422813]\n"
>>>>>>> 783f494a0ceb820f3bc62cce503d41941bd012b5:Exoplanets/Pan_graph.ipynb
     ]
    }
   ],
   "source": [
    "print(x)"
   ]
  },
  {
   "cell_type": "code",
<<<<<<< HEAD:Exoplanets/.ipynb_checkpoints/Shift_graph-checkpoint.ipynb
   "execution_count": 15,
=======
   "execution_count": 5,
>>>>>>> 783f494a0ceb820f3bc62cce503d41941bd012b5:Exoplanets/Pan_graph.ipynb
   "metadata": {},
   "outputs": [],
   "source": [
    "a = 0\n",
    "b = 50\n",
    "c = 0\n",
    "d = 16\n",
    "e = 0\n",
    "f = 20\n",
    "#creates our variables for the axes limits and sets them to an initial number"
   ]
  },
  {
   "cell_type": "code",
   "execution_count": 9,
   "metadata": {},
   "outputs": [
    {
     "data": {
      "text/plain": [
<<<<<<< HEAD:Exoplanets/.ipynb_checkpoints/Shift_graph-checkpoint.ipynb
       "<mpl_toolkits.mplot3d.art3d.Path3DCollection at 0x126478550>"
=======
       "14"
>>>>>>> 783f494a0ceb820f3bc62cce503d41941bd012b5:Exoplanets/Pan_graph.ipynb
      ]
     },
     "execution_count": 9,
     "metadata": {},
     "output_type": "execute_result"
    }
   ],
   "source": [
    "fig = plt.figure(figsize=[10, 8]) #creates the figure and sets its size\n",
    "ax = fig.add_subplot(111, projection = \"3d\", xlim = (a,b), ylim = (c,d), zlim = (e,f)) \n",
    "#adds a subplot because once we change our axes, that's technically a new plot\n",
    "#'111'= 1x1 grid, 1st subplot\n",
    "#projection is 3d so we can graph 3 axes (used our earlier import for this)\n",
    "#then we set our xlim, ylim, and zlim parameters to the variables we have above\n",
    "\n",
    "#makes our graph a scatter plot and graphs the x, y, and z values\n",
    "\n",
    "def on_key_press_left(event): #creates our event handling function to move left on the x-axis by subtracting 5\n",
    "    if event.key == 'left': #if the key pressed is the left arrow\n",
    "        global a #tells our function that we defined 'a' outside of the function\n",
    "        global b #^\n",
    "        a = a-5 #subtracts 5 from the value of a each time the key is pressed\n",
    "        b = b-5 #^\n",
    "        ax.set_xlim([a,b]) #resets the x-axis limits to new 'a' and 'b'\n",
    "        plt.show() #re-shows the plot so we can see the change in axis\n",
    "\n",
    "fig.canvas.mpl_connect('key_press_event', on_key_press_left) \n",
    "#connects our figure with our above function; tells the figure that it should expect a key_press\n",
    "\n",
    "def on_key_press_right(event): #creates our event handling function to move right on the x-axis by adding 5\n",
    "    if event.key == 'right': #if the key pressed is the right arrow\n",
    "        global a #tells our function that we defined 'a' outside of the function\n",
    "        global b #^\n",
    "        a = a+5 #adds 5 from the value of a each time the key is pressed\n",
    "        b = b+5 #^\n",
    "        ax.set_xlim([a,b]) #resets the x-axis limits to new 'a' and 'b'\n",
    "        plt.show() #re-shows the plot so we can see the change in axis\n",
    "\n",
    "fig.canvas.mpl_connect('key_press_event', on_key_press_right) \n",
    "#connects our figure with our above function; tells the figure that it should expect a key_press\n",
    "\n",
    "def on_key_press_down(event): #creates our event handling function to move out on the y-axis by subtracting 5\n",
    "    if event.key == 'down': #if the key pressed is the down arrow\n",
    "        global c #tells our function that we defined 'c' outside of the function\n",
    "        global d #^\n",
    "        c = c-5 #subtracts 5 from the value of a each time the key is pressed\n",
    "        d = d-5 #^\n",
    "        ax.set_ylim([c,d]) #resets the y-axis limits to new 'c' and 'd'\n",
    "        plt.show() #re-shows the plot so we can see the change in axis\n",
    "\n",
    "fig.canvas.mpl_connect('key_press_event', on_key_press_down) \n",
    "#connects our figure with our above function; tells the figure that it should expect a key_press\n",
    "\n",
    "def on_key_press_up(event): #creates our event handling function to move in on the y-axis by adding 5\n",
    "    if event.key == 'up': #if the key pressed is the up arrow\n",
    "        global c #tells our function that we defined 'c' outside of the function\n",
    "        global d #^\n",
    "        c = c+5 #adds 5 from the value of a each time the key is pressed\n",
    "        d = d+5 #^\n",
    "        ax.set_ylim([c,d]) #resets the y-axis limits to new 'c' and 'd'\n",
    "        plt.show() #re-shows the plot so we can see the change in axis\n",
    "\n",
    "fig.canvas.mpl_connect('key_press_event', on_key_press_up) \n",
    "#connects our figure with our above function; tells the figure that it should expect a key_press\n",
    "\n",
<<<<<<< HEAD:Exoplanets/.ipynb_checkpoints/Shift_graph-checkpoint.ipynb
    "def on_key_press_zminus(event): #creates our event handling function to move in on the z-axis by adding 5\n",
    "    if event.key == 'r': #if the key pressed is the up arrow\n",
=======
    "def on_key_press_out(event): #creates our event handling function to move in on the z-axis by adding 5\n",
    "    if event.key == 't': #if the key pressed is the up arrow\n",
>>>>>>> 783f494a0ceb820f3bc62cce503d41941bd012b5:Exoplanets/Pan_graph.ipynb
    "        global e #tells our function that we defined 'c' outside of the function\n",
    "        global f #^\n",
    "        e = e-5 #adds 5 from the value of a each time the key is pressed\n",
    "        f = f-5 #^\n",
    "        ax.set_zlim([e,f]) #resets the y-axis limits to new 'c' and 'd'\n",
    "        plt.show() #re-shows the plot so we can see the change in axis\n",
    "\n",
<<<<<<< HEAD:Exoplanets/.ipynb_checkpoints/Shift_graph-checkpoint.ipynb
    "fig.canvas.mpl_connect('key_press_event', on_key_press_zminus) \n",
    "#connects our figure with our above function; tells the figure that it should expect a key_press\n",
    "\n",
    "def on_key_press_zplus(event): #creates our event handling function to move up on the y-axis by adding 5\n",
    "    if event.key == 't': #if the key pressed is the up arrow\n",
=======
    "fig.canvas.mpl_connect('key_press_event', on_key_press_out) \n",
    "#connects our figure with our above function; tells the figure that it should expect a key_press\n",
    "\n",
    "def on_key_press_in(event): #creates our event handling function to move up on the y-axis by adding 5\n",
    "    if event.key == 'y': #if the key pressed is the up arrow\n",
>>>>>>> 783f494a0ceb820f3bc62cce503d41941bd012b5:Exoplanets/Pan_graph.ipynb
    "        global e #tells our function that we defined 'c' outside of the function\n",
    "        global f #^\n",
    "        e = e+5 #adds 5 from the value of a each time the key is pressed\n",
    "        f = f+5 #^\n",
    "        ax.set_zlim([e,f]) #resets the y-axis limits to new 'c' and 'd'\n",
    "        plt.show() #re-shows the plot so we can see the change in axis\n",
    "\n",
<<<<<<< HEAD:Exoplanets/.ipynb_checkpoints/Shift_graph-checkpoint.ipynb
    "fig.canvas.mpl_connect('key_press_event', on_key_press_zplus) \n",
    "#connects our figure with our above function; tells the figure that it should expect a key_press\n",
    "\n",
    "ax.scatter(x,y,z)"
=======
    "fig.canvas.mpl_connect('key_press_event', on_key_press_in) \n",
    "#connects our figure with our above function; tells the figure that it should expect a key_press"
>>>>>>> 783f494a0ceb820f3bc62cce503d41941bd012b5:Exoplanets/Pan_graph.ipynb
   ]
  },
  {
   "cell_type": "code",
   "execution_count": null,
   "metadata": {},
   "outputs": [],
   "source": []
  },
  {
   "cell_type": "code",
   "execution_count": null,
   "metadata": {},
   "outputs": [],
   "source": []
  }
 ],
 "metadata": {
  "kernelspec": {
   "display_name": "Python 3",
   "language": "python",
   "name": "python3"
  },
  "language_info": {
   "codemirror_mode": {
    "name": "ipython",
    "version": 3
   },
   "file_extension": ".py",
   "mimetype": "text/x-python",
   "name": "python",
   "nbconvert_exporter": "python",
   "pygments_lexer": "ipython3",
   "version": "3.6.4"
  }
 },
 "nbformat": 4,
 "nbformat_minor": 2
}
